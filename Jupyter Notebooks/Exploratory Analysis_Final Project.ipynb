{
 "cells": [
  {
   "cell_type": "markdown",
   "metadata": {},
   "source": [
    "# Final Project Exploratory Analysis\n",
    "\n",
    "The objective of this notebook is to perform exploratory analysis on a dataset of cell images, some of which are malaria infected and some of whic are healthy, in order to create a model that can predict with high accuracy which is which. The research question to be answered is: \n",
    "\n",
    "1. Using only a photo of a blood cell, can I predict with a level of acccuracy equivalent to or higher than microscopy in a lab (97%), whether a Malaria infection is present? \n",
    "\n",
    "Plan of Action:\n",
    "\n",
    "- Prepare the data for analysis:\n",
    "    - Split data into train and validation groups\n",
    "    - format the data appropriately for a neural network by scaling and normalizing \n",
    "- Start by training a basic tensorflow model to classify the images\n",
    "- experiment with the model parameters, optimizer, and layers to identify the best fit\n",
    "- perform additional data augmentation in order to improve the accuracy of the model and reduce any overfitting\n",
    "\n",
    "Note: for the initial model I am using https://www.tensorflow.org/tutorials/images/classification as a guide\n",
    "\n",
    "and https://machinelearningmastery.com/grid-search-hyperparameters-deep-learning-models-python-keras/\n",
    "to guide the tuning process"
   ]
  },
  {
   "cell_type": "code",
   "execution_count": 1,
   "metadata": {},
   "outputs": [],
   "source": [
    "#Import libraries\n",
    "import kaggle\n",
    "import matplotlib.pyplot as plt\n",
    "import numpy as np\n",
    "import os\n",
    "import PIL\n",
    "import tensorflow as tf\n",
    "import pathlib\n",
    "\n",
    "from tensorflow import keras\n",
    "from tensorflow.keras import layers\n",
    "from tensorflow.keras.models import Sequential"
   ]
  },
  {
   "cell_type": "code",
   "execution_count": 2,
   "metadata": {},
   "outputs": [],
   "source": [
    "#Set my data directory *** Test data will only be used in the final report to evaluate my model\n",
    "train_data_dir = \"C:/Users/15856/Data 602/FinalProject/Cell_Images/cell_images/train\"\n",
    "train_data_dir = pathlib.Path(train_data_dir)"
   ]
  },
  {
   "cell_type": "code",
   "execution_count": 3,
   "metadata": {},
   "outputs": [],
   "source": [
    "#I know from my data cleaning notebook that the data images are several different sizes, and so I will set a standard input size for them\n",
    "batch_size = 32\n",
    "img_height = 200\n",
    "img_width = 200"
   ]
  },
  {
   "cell_type": "code",
   "execution_count": 4,
   "metadata": {},
   "outputs": [
    {
     "name": "stdout",
     "output_type": "stream",
     "text": [
      "Found 24958 files belonging to 2 classes.\n",
      "Using 22463 files for training.\n"
     ]
    }
   ],
   "source": [
    "#creating my datasets, one for training and one for validation. I selected 10% of the images for my validation set\n",
    "\n",
    "train_ds = tf.keras.preprocessing.image_dataset_from_directory(\n",
    "  train_data_dir,\n",
    "  validation_split=0.1, #about 2000 images seems like a good validation set to me\n",
    "  subset=\"training\",\n",
    "  seed=1212020,\n",
    "  image_size=(img_height, img_width),\n",
    "  batch_size=batch_size)"
   ]
  },
  {
   "cell_type": "code",
   "execution_count": 5,
   "metadata": {},
   "outputs": [
    {
     "name": "stdout",
     "output_type": "stream",
     "text": [
      "Found 24958 files belonging to 2 classes.\n",
      "Using 2495 files for validation.\n"
     ]
    }
   ],
   "source": [
    "val_ds = tf.keras.preprocessing.image_dataset_from_directory(\n",
    "  train_data_dir,\n",
    "  validation_split=0.1,\n",
    "  subset=\"validation\",\n",
    "  seed=1212020,\n",
    "  image_size=(img_height, img_width),\n",
    "  batch_size=batch_size)"
   ]
  },
  {
   "cell_type": "code",
   "execution_count": 6,
   "metadata": {},
   "outputs": [
    {
     "name": "stdout",
     "output_type": "stream",
     "text": [
      "['parasitized', 'uninfected']\n"
     ]
    }
   ],
   "source": [
    "class_names = train_ds.class_names\n",
    "print(class_names)"
   ]
  },
  {
   "cell_type": "markdown",
   "metadata": {},
   "source": [
    "## Feature Engineering"
   ]
  },
  {
   "cell_type": "code",
   "execution_count": 7,
   "metadata": {},
   "outputs": [],
   "source": [
    "# This stage of the data preparation, using AUTOTUNE, is for optimizing performance and allows the tf.data to tune the value dynamically\n",
    "#https://www.tensorflow.org/guide/data_performance\n",
    "# The cache function keeps the data in memory after the first epoch which presents bottlenecking during training\n",
    "#the prefectch function overlaps the data preproccessing with training the model\n",
    "\n",
    "AUTOTUNE = tf.data.experimental.AUTOTUNE\n",
    "\n",
    "train_ds = train_ds.cache().shuffle(1000).prefetch(buffer_size=AUTOTUNE)\n",
    "val_ds = val_ds.cache().prefetch(buffer_size=AUTOTUNE)"
   ]
  },
  {
   "cell_type": "markdown",
   "metadata": {},
   "source": [
    "## Model Training and Selection"
   ]
  },
  {
   "cell_type": "code",
   "execution_count": 8,
   "metadata": {},
   "outputs": [],
   "source": [
    "#Finally I will create my model. This is essentially based on the defaults in the tutorial I am using. I will experiment with other activation functions later on\n",
    "#Furthermore, I will keep many of the inputs, such as a 3x3 Kernel size based on research on the optimal settings https://towardsdatascience.com/deciding-optimal-filter-size-for-cnns-d6f7b56f9363\n",
    "num_classes = 2\n",
    "\n",
    "model = Sequential([\n",
    "  layers.experimental.preprocessing.Rescaling(1./255, input_shape=(img_height, img_width, 3)),\n",
    "  layers.Conv2D(16, 3, padding='same', activation='relu'),#2d convolutional layer over spacial images\n",
    "  layers.MaxPooling2D(),#max pooling layer for 2D spacial data\n",
    "  layers.Conv2D(32, 3, padding='same', activation='relu'),\n",
    "  layers.MaxPooling2D(),\n",
    "  layers.Conv2D(64, 3, padding='same', activation='relu'),\n",
    "  layers.MaxPooling2D(),\n",
    "  layers.Flatten(),\n",
    "  layers.Dense(128, activation='relu'),\n",
    "  layers.Dense(num_classes)\n",
    "])"
   ]
  },
  {
   "cell_type": "code",
   "execution_count": 9,
   "metadata": {},
   "outputs": [],
   "source": [
    "#again, based on defaults in the tutorial as well as standards for the field. Adam is the basic optimizer to use \n",
    "\n",
    "model.compile(optimizer='adam',\n",
    "              loss=tf.keras.losses.SparseCategoricalCrossentropy(from_logits=True),\n",
    "              metrics=['accuracy'])"
   ]
  },
  {
   "cell_type": "code",
   "execution_count": 10,
   "metadata": {},
   "outputs": [
    {
     "name": "stdout",
     "output_type": "stream",
     "text": [
      "Model: \"sequential\"\n",
      "_________________________________________________________________\n",
      "Layer (type)                 Output Shape              Param #   \n",
      "=================================================================\n",
      "rescaling (Rescaling)        (None, 200, 200, 3)       0         \n",
      "_________________________________________________________________\n",
      "conv2d (Conv2D)              (None, 200, 200, 16)      448       \n",
      "_________________________________________________________________\n",
      "max_pooling2d (MaxPooling2D) (None, 100, 100, 16)      0         \n",
      "_________________________________________________________________\n",
      "conv2d_1 (Conv2D)            (None, 100, 100, 32)      4640      \n",
      "_________________________________________________________________\n",
      "max_pooling2d_1 (MaxPooling2 (None, 50, 50, 32)        0         \n",
      "_________________________________________________________________\n",
      "conv2d_2 (Conv2D)            (None, 50, 50, 64)        18496     \n",
      "_________________________________________________________________\n",
      "max_pooling2d_2 (MaxPooling2 (None, 25, 25, 64)        0         \n",
      "_________________________________________________________________\n",
      "flatten (Flatten)            (None, 40000)             0         \n",
      "_________________________________________________________________\n",
      "dense (Dense)                (None, 128)               5120128   \n",
      "_________________________________________________________________\n",
      "dense_1 (Dense)              (None, 2)                 258       \n",
      "=================================================================\n",
      "Total params: 5,143,970\n",
      "Trainable params: 5,143,970\n",
      "Non-trainable params: 0\n",
      "_________________________________________________________________\n"
     ]
    }
   ],
   "source": [
    "#Review model before training\n",
    "model.summary()"
   ]
  },
  {
   "cell_type": "code",
   "execution_count": 11,
   "metadata": {},
   "outputs": [
    {
     "name": "stdout",
     "output_type": "stream",
     "text": [
      "Epoch 1/10\n",
      "702/702 [==============================] - 282s 402ms/step - loss: 0.6517 - accuracy: 0.5684 - val_loss: 0.6931 - val_accuracy: 0.5030\n",
      "Epoch 2/10\n",
      "702/702 [==============================] - 272s 387ms/step - loss: 0.6932 - accuracy: 0.4969 - val_loss: 0.6931 - val_accuracy: 0.5030\n",
      "Epoch 3/10\n",
      "702/702 [==============================] - 262s 374ms/step - loss: 0.6932 - accuracy: 0.5015 - val_loss: 0.6932 - val_accuracy: 0.4970\n",
      "Epoch 4/10\n",
      "702/702 [==============================] - 267s 380ms/step - loss: 0.6932 - accuracy: 0.4938 - val_loss: 0.6932 - val_accuracy: 0.4970\n",
      "Epoch 5/10\n",
      "702/702 [==============================] - 264s 376ms/step - loss: 0.6932 - accuracy: 0.4958 - val_loss: 0.6932 - val_accuracy: 0.4970\n",
      "Epoch 6/10\n",
      "702/702 [==============================] - 267s 380ms/step - loss: 0.6932 - accuracy: 0.4995 - val_loss: 0.6931 - val_accuracy: 0.5030\n",
      "Epoch 7/10\n",
      "702/702 [==============================] - 265s 377ms/step - loss: 0.6932 - accuracy: 0.5007 - val_loss: 0.6932 - val_accuracy: 0.4970\n",
      "Epoch 8/10\n",
      "702/702 [==============================] - 263s 374ms/step - loss: 0.6932 - accuracy: 0.4949 - val_loss: 0.6932 - val_accuracy: 0.4970\n",
      "Epoch 9/10\n",
      "702/702 [==============================] - 262s 374ms/step - loss: 0.6932 - accuracy: 0.4962 - val_loss: 0.6931 - val_accuracy: 0.5030\n",
      "Epoch 10/10\n",
      "702/702 [==============================] - 262s 373ms/step - loss: 0.6932 - accuracy: 0.4945 - val_loss: 0.6932 - val_accuracy: 0.4970\n"
     ]
    }
   ],
   "source": [
    "#Train the model\n",
    "\n",
    "epochs=10 #I will start with 10 epochs and see how the accuracy looks\n",
    "history = model.fit(\n",
    "  train_ds,\n",
    "  validation_data=val_ds,\n",
    "  epochs=epochs\n",
    ")"
   ]
  },
  {
   "cell_type": "markdown",
   "metadata": {},
   "source": [
    "Some observations, the model clearly started overfitting around epoc 5 when the validation accuracy started to decrease, giving a maximum accuracy of around 96%, less than our target."
   ]
  },
  {
   "cell_type": "code",
   "execution_count": 12,
   "metadata": {},
   "outputs": [
    {
     "data": {
      "image/png": "[encoded data removed]",
      "text/plain": [
       "<Figure size 576x576 with 2 Axes>"
      ]
     },
     "metadata": {
      "needs_background": "light"
     },
     "output_type": "display_data"
    }
   ],
   "source": [
    "acc = history.history['accuracy']\n",
    "val_acc = history.history['val_accuracy']\n",
    "\n",
    "loss = history.history['loss']\n",
    "val_loss = history.history['val_loss']\n",
    "\n",
    "epochs_range = range(epochs)\n",
    "\n",
    "plt.figure(figsize=(8, 8))\n",
    "plt.subplot(1, 2, 1)\n",
    "plt.plot(epochs_range, acc, label='Training Accuracy')\n",
    "plt.plot(epochs_range, val_acc, label='Validation Accuracy')\n",
    "plt.legend(loc='lower right')\n",
    "plt.title('Training and Validation Accuracy')\n",
    "\n",
    "plt.subplot(1, 2, 2)\n",
    "plt.plot(epochs_range, loss, label='Training Loss')\n",
    "plt.plot(epochs_range, val_loss, label='Validation Loss')\n",
    "plt.legend(loc='upper right')\n",
    "plt.title('Training and Validation Loss')\n",
    "plt.show()"
   ]
  },
  {
   "cell_type": "markdown",
   "metadata": {},
   "source": [
    "To help improve the overfitting, I will add some preproccessing layers to augment the data, specifically rotating, zooming in on, and flipping images."
   ]
  },
  {
   "cell_type": "raw",
   "metadata": {},
   "source": [
    "#https://www.tensorflow.org/api_docs/python/tf/keras/layers/experimental/preprocessing/PreprocessingLayer\n",
    "data_augmentation = keras.Sequential(\n",
    "  [\n",
    "    layers.experimental.preprocessing.RandomFlip(\"horizontal\", \n",
    "                                                 input_shape=(img_height, \n",
    "                                                              img_width,\n",
    "                                                              3)),\n",
    "    layers.experimental.preprocessing.RandomRotation(0.1),\n",
    "    layers.experimental.preprocessing.RandomZoom(0.1),\n",
    "  ]\n",
    ")"
   ]
  },
  {
   "cell_type": "code",
   "execution_count": 13,
   "metadata": {},
   "outputs": [],
   "source": [
    "#Made a change to the random flip function, so that it flips vertically and horizontally, creating greater diversity\n",
    "#This made some improvement on the accuracy\n",
    "data_augmentation = keras.Sequential(\n",
    "  [\n",
    "    layers.experimental.preprocessing.RandomFlip(input_shape=(img_height, \n",
    "                                                              img_width,\n",
    "                                                              3)),\n",
    "    layers.experimental.preprocessing.RandomRotation(0.1),\n",
    "    layers.experimental.preprocessing.RandomZoom(0.1),\n",
    "  ]\n",
    ")"
   ]
  },
  {
   "cell_type": "code",
   "execution_count": 14,
   "metadata": {},
   "outputs": [
    {
     "data": {
      "image/png": "[encoded data removed]",
      "text/plain": [
       "<Figure size 720x720 with 9 Axes>"
      ]
     },
     "metadata": {
      "needs_background": "light"
     },
     "output_type": "display_data"
    }
   ],
   "source": [
    "plt.figure(figsize=(10, 10))\n",
    "for images, _ in train_ds.take(1):\n",
    "  for i in range(9):\n",
    "    augmented_images = data_augmentation(images)\n",
    "    ax = plt.subplot(3, 3, i + 1)\n",
    "    plt.imshow(augmented_images[0].numpy().astype(\"uint8\"))\n",
    "    plt.axis(\"off\")"
   ]
  },
  {
   "cell_type": "code",
   "execution_count": 15,
   "metadata": {},
   "outputs": [],
   "source": [
    "model = Sequential([\n",
    "  data_augmentation,#my additional data augmentation layer\n",
    "  layers.experimental.preprocessing.Rescaling(1./255),\n",
    "  layers.Conv2D(16, 3, padding='same', activation='relu'),\n",
    "  layers.MaxPooling2D(),\n",
    "  layers.Conv2D(32, 3, padding='same', activation='relu'),\n",
    "  layers.MaxPooling2D(),\n",
    "  layers.Conv2D(64, 3, padding='same', activation='relu'),\n",
    "  layers.MaxPooling2D(),\n",
    "  layers.Dropout(0.2),#This layer helps to avoid overfitting by randomly setting input units to zero at a rate of 20%\n",
    "  layers.Flatten(),\n",
    "  layers.Dense(128, activation='relu'),\n",
    "  layers.Dense(num_classes)\n",
    "])"
   ]
  },
  {
   "cell_type": "code",
   "execution_count": 16,
   "metadata": {},
   "outputs": [],
   "source": [
    "model.compile(optimizer='adam',\n",
    "              loss=tf.keras.losses.SparseCategoricalCrossentropy(from_logits=True),\n",
    "              metrics=['accuracy'])"
   ]
  },
  {
   "cell_type": "code",
   "execution_count": 17,
   "metadata": {},
   "outputs": [
    {
     "name": "stdout",
     "output_type": "stream",
     "text": [
      "Model: \"sequential_2\"\n",
      "_________________________________________________________________\n",
      "Layer (type)                 Output Shape              Param #   \n",
      "=================================================================\n",
      "sequential_1 (Sequential)    (None, 200, 200, 3)       0         \n",
      "_________________________________________________________________\n",
      "rescaling_1 (Rescaling)      (None, 200, 200, 3)       0         \n",
      "_________________________________________________________________\n",
      "conv2d_3 (Conv2D)            (None, 200, 200, 16)      448       \n",
      "_________________________________________________________________\n",
      "max_pooling2d_3 (MaxPooling2 (None, 100, 100, 16)      0         \n",
      "_________________________________________________________________\n",
      "conv2d_4 (Conv2D)            (None, 100, 100, 32)      4640      \n",
      "_________________________________________________________________\n",
      "max_pooling2d_4 (MaxPooling2 (None, 50, 50, 32)        0         \n",
      "_________________________________________________________________\n",
      "conv2d_5 (Conv2D)            (None, 50, 50, 64)        18496     \n",
      "_________________________________________________________________\n",
      "max_pooling2d_5 (MaxPooling2 (None, 25, 25, 64)        0         \n",
      "_________________________________________________________________\n",
      "dropout (Dropout)            (None, 25, 25, 64)        0         \n",
      "_________________________________________________________________\n",
      "flatten_1 (Flatten)          (None, 40000)             0         \n",
      "_________________________________________________________________\n",
      "dense_2 (Dense)              (None, 128)               5120128   \n",
      "_________________________________________________________________\n",
      "dense_3 (Dense)              (None, 2)                 258       \n",
      "=================================================================\n",
      "Total params: 5,143,970\n",
      "Trainable params: 5,143,970\n",
      "Non-trainable params: 0\n",
      "_________________________________________________________________\n"
     ]
    }
   ],
   "source": [
    "model.summary()"
   ]
  },
  {
   "cell_type": "code",
   "execution_count": 18,
   "metadata": {},
   "outputs": [
    {
     "name": "stdout",
     "output_type": "stream",
     "text": [
      "Epoch 1/10\n",
      "702/702 [==============================] - 313s 446ms/step - loss: 0.3702 - accuracy: 0.8355 - val_loss: 0.2112 - val_accuracy: 0.9363\n",
      "Epoch 2/10\n",
      "702/702 [==============================] - 308s 439ms/step - loss: 0.2028 - accuracy: 0.9330 - val_loss: 0.1621 - val_accuracy: 0.9515\n",
      "Epoch 3/10\n",
      "702/702 [==============================] - 309s 440ms/step - loss: 0.1706 - accuracy: 0.9461 - val_loss: 0.1825 - val_accuracy: 0.9463\n",
      "Epoch 4/10\n",
      "702/702 [==============================] - 307s 437ms/step - loss: 0.1551 - accuracy: 0.9510 - val_loss: 0.1178 - val_accuracy: 0.9611\n",
      "Epoch 5/10\n",
      "702/702 [==============================] - 305s 435ms/step - loss: 0.1481 - accuracy: 0.9533 - val_loss: 0.1259 - val_accuracy: 0.9643\n",
      "Epoch 6/10\n",
      "702/702 [==============================] - 304s 434ms/step - loss: 0.1382 - accuracy: 0.9569 - val_loss: 0.1155 - val_accuracy: 0.9607\n",
      "Epoch 7/10\n",
      "702/702 [==============================] - 310s 441ms/step - loss: 0.1345 - accuracy: 0.9570 - val_loss: 0.1150 - val_accuracy: 0.9659\n",
      "Epoch 8/10\n",
      "702/702 [==============================] - 307s 437ms/step - loss: 0.1348 - accuracy: 0.9572 - val_loss: 0.1231 - val_accuracy: 0.9619\n",
      "Epoch 9/10\n",
      "702/702 [==============================] - 305s 434ms/step - loss: 0.1313 - accuracy: 0.9572 - val_loss: 0.1115 - val_accuracy: 0.9651\n",
      "Epoch 10/10\n",
      "702/702 [==============================] - 308s 439ms/step - loss: 0.1295 - accuracy: 0.9591 - val_loss: 0.1154 - val_accuracy: 0.9611\n"
     ]
    }
   ],
   "source": [
    "epochs = 10\n",
    "history = model.fit(\n",
    "  train_ds,\n",
    "  validation_data=val_ds,\n",
    "  epochs=epochs\n",
    ")"
   ]
  },
  {
   "cell_type": "markdown",
   "metadata": {},
   "source": [
    "Here my final accuracy has improved, but is still lower than my 97% target. I will therefore try a few different methods to improve the accuracy"
   ]
  },
  {
   "cell_type": "code",
   "execution_count": 19,
   "metadata": {},
   "outputs": [],
   "source": [
    "#first, I will try with valid padding, then I will try adding a leakyrelu activation function\n",
    "\n",
    "model = Sequential([\n",
    "  data_augmentation,#my additional data augmentation layer\n",
    "  layers.experimental.preprocessing.Rescaling(1./255),\n",
    "  layers.Conv2D(16, 3, padding='valid', activation='relu'),\n",
    "  layers.MaxPooling2D(),\n",
    "  layers.Conv2D(32, 3, padding='valid', activation='relu'),\n",
    "  layers.MaxPooling2D(),\n",
    "  layers.Conv2D(64, 3, padding='valid', activation='relu'),\n",
    "  layers.MaxPooling2D(),\n",
    "  layers.Dropout(0.2),\n",
    "  layers.Flatten(),\n",
    "  layers.Dense(128, activation='relu'),\n",
    "  layers.Dense(num_classes)\n",
    "])"
   ]
  },
  {
   "cell_type": "code",
   "execution_count": 20,
   "metadata": {},
   "outputs": [],
   "source": [
    "model.compile(optimizer='adam',\n",
    "              loss=tf.keras.losses.SparseCategoricalCrossentropy(from_logits=True),\n",
    "              metrics=['accuracy'])"
   ]
  },
  {
   "cell_type": "code",
   "execution_count": 21,
   "metadata": {},
   "outputs": [
    {
     "name": "stdout",
     "output_type": "stream",
     "text": [
      "Epoch 1/10\n",
      "702/702 [==============================] - 293s 417ms/step - loss: 0.4433 - accuracy: 0.7852 - val_loss: 0.2029 - val_accuracy: 0.9399\n",
      "Epoch 2/10\n",
      "702/702 [==============================] - 290s 412ms/step - loss: 0.2041 - accuracy: 0.9340 - val_loss: 0.1531 - val_accuracy: 0.9583\n",
      "Epoch 3/10\n",
      "702/702 [==============================] - 290s 412ms/step - loss: 0.1696 - accuracy: 0.9474 - val_loss: 0.1726 - val_accuracy: 0.9483\n",
      "Epoch 4/10\n",
      "702/702 [==============================] - 289s 411ms/step - loss: 0.1648 - accuracy: 0.9485 - val_loss: 0.1483 - val_accuracy: 0.9559\n",
      "Epoch 5/10\n",
      "702/702 [==============================] - 289s 412ms/step - loss: 0.1553 - accuracy: 0.9520 - val_loss: 0.1371 - val_accuracy: 0.9599\n",
      "Epoch 6/10\n",
      "702/702 [==============================] - 287s 409ms/step - loss: 0.1481 - accuracy: 0.9522 - val_loss: 0.1365 - val_accuracy: 0.9575\n",
      "Epoch 7/10\n",
      "702/702 [==============================] - 287s 409ms/step - loss: 0.1392 - accuracy: 0.9549 - val_loss: 0.1231 - val_accuracy: 0.9623\n",
      "Epoch 8/10\n",
      "702/702 [==============================] - 289s 412ms/step - loss: 0.1384 - accuracy: 0.9547 - val_loss: 0.1246 - val_accuracy: 0.9655\n",
      "Epoch 9/10\n",
      "702/702 [==============================] - 290s 414ms/step - loss: 0.1338 - accuracy: 0.9565 - val_loss: 0.1244 - val_accuracy: 0.9611\n",
      "Epoch 10/10\n",
      "702/702 [==============================] - 290s 413ms/step - loss: 0.1335 - accuracy: 0.9565 - val_loss: 0.1165 - val_accuracy: 0.9623\n"
     ]
    }
   ],
   "source": [
    "epochs = 10\n",
    "history = model.fit(\n",
    "  train_ds,\n",
    "  validation_data=val_ds,\n",
    "  epochs=epochs\n",
    ")"
   ]
  },
  {
   "cell_type": "markdown",
   "metadata": {},
   "source": [
    "The final accuracy was moderately improved. I will now try using the swish activation function"
   ]
  },
  {
   "cell_type": "code",
   "execution_count": 22,
   "metadata": {},
   "outputs": [
    {
     "name": "stdout",
     "output_type": "stream",
     "text": [
      "Requirement already satisfied: keras in c:\\users\\15856\\anaconda3\\lib\\site-packages (2.4.3)\n",
      "Requirement already satisfied: pyyaml in c:\\users\\15856\\anaconda3\\lib\\site-packages (from keras) (5.3.1)\n",
      "Requirement already satisfied: scipy>=0.14 in c:\\users\\15856\\anaconda3\\lib\\site-packages (from keras) (1.5.0)\n",
      "Requirement already satisfied: numpy>=1.9.1 in c:\\users\\15856\\anaconda3\\lib\\site-packages (from keras) (1.18.5)\n",
      "Requirement already satisfied: h5py in c:\\users\\15856\\anaconda3\\lib\\site-packages (from keras) (2.10.0)\n",
      "Requirement already satisfied: six in c:\\users\\15856\\anaconda3\\lib\\site-packages (from h5py->keras) (1.15.0)\n"
     ]
    }
   ],
   "source": [
    "!pip install keras"
   ]
  },
  {
   "cell_type": "code",
   "execution_count": 23,
   "metadata": {},
   "outputs": [],
   "source": [
    "#Next I wanted to try the swish activation, implemented below\n",
    "#https://www.bignerdranch.com/blog/implementing-swish-activation-function-in-keras/\n",
    "import keras\n",
    "from keras.backend import sigmoid\n",
    "def swish(x, beta = 1):\n",
    "    return (x * sigmoid(beta * x))\n",
    "from keras.utils.generic_utils import get_custom_objects\n",
    "from keras.layers import Activation\n",
    "get_custom_objects().update({'swish': Activation(swish)})"
   ]
  },
  {
   "cell_type": "code",
   "execution_count": 24,
   "metadata": {},
   "outputs": [],
   "source": [
    "# I will try adding a swish activation function, created by google, it has been shown to perform better than relu, and then I will test leaky relu to se which is optimal\n",
    "#https://missinglink.ai/guides/neural-network-concepts/7-types-neural-network-activation-functions-right/\n",
    "\n",
    "model = Sequential([\n",
    "  data_augmentation,\n",
    "  layers.experimental.preprocessing.Rescaling(1./255),\n",
    "  layers.Conv2D(16, 3, padding='valid', activation='swish'),\n",
    "  layers.MaxPooling2D(),\n",
    "  layers.Conv2D(32, 3, padding='valid', activation='swish'),\n",
    "  layers.MaxPooling2D(),\n",
    "  layers.Conv2D(64, 3, padding='valid', activation='swish'),\n",
    "  layers.MaxPooling2D(),\n",
    "  layers.Dropout(0.2),\n",
    "  layers.Flatten(),\n",
    "  layers.Dense(128, activation='swish'),\n",
    "  layers.Dense(num_classes)\n",
    "])"
   ]
  },
  {
   "cell_type": "code",
   "execution_count": 25,
   "metadata": {},
   "outputs": [],
   "source": [
    "model.compile(optimizer='adam',\n",
    "              loss=tf.keras.losses.SparseCategoricalCrossentropy(from_logits=True),\n",
    "              metrics=['accuracy'])"
   ]
  },
  {
   "cell_type": "code",
   "execution_count": 26,
   "metadata": {},
   "outputs": [
    {
     "name": "stdout",
     "output_type": "stream",
     "text": [
      "Epoch 1/10\n",
      "702/702 [==============================] - 384s 547ms/step - loss: 0.5848 - accuracy: 0.6914 - val_loss: 0.3483 - val_accuracy: 0.8621\n",
      "Epoch 2/10\n",
      "702/702 [==============================] - 383s 545ms/step - loss: 0.2692 - accuracy: 0.8965 - val_loss: 0.2611 - val_accuracy: 0.9046\n",
      "Epoch 3/10\n",
      "702/702 [==============================] - 382s 544ms/step - loss: 0.2258 - accuracy: 0.9177 - val_loss: 0.1727 - val_accuracy: 0.9379\n",
      "Epoch 4/10\n",
      "702/702 [==============================] - 384s 547ms/step - loss: 0.2014 - accuracy: 0.9300 - val_loss: 0.1733 - val_accuracy: 0.9451\n",
      "Epoch 5/10\n",
      "702/702 [==============================] - 382s 545ms/step - loss: 0.1865 - accuracy: 0.9372 - val_loss: 0.1613 - val_accuracy: 0.9483\n",
      "Epoch 6/10\n",
      "702/702 [==============================] - 382s 545ms/step - loss: 0.1727 - accuracy: 0.9439 - val_loss: 0.1475 - val_accuracy: 0.9503\n",
      "Epoch 7/10\n",
      "702/702 [==============================] - 384s 547ms/step - loss: 0.1697 - accuracy: 0.9430 - val_loss: 0.1348 - val_accuracy: 0.9551\n",
      "Epoch 8/10\n",
      "702/702 [==============================] - 383s 545ms/step - loss: 0.1660 - accuracy: 0.9464 - val_loss: 0.1293 - val_accuracy: 0.9591\n",
      "Epoch 9/10\n",
      "702/702 [==============================] - 385s 549ms/step - loss: 0.1605 - accuracy: 0.9481 - val_loss: 0.1421 - val_accuracy: 0.9527\n",
      "Epoch 10/10\n",
      "702/702 [==============================] - 382s 544ms/step - loss: 0.1603 - accuracy: 0.9480 - val_loss: 0.1272 - val_accuracy: 0.9595\n"
     ]
    }
   ],
   "source": [
    "epochs = 10\n",
    "history = model.fit(\n",
    "  train_ds,\n",
    "  validation_data=val_ds,\n",
    "  epochs=epochs\n",
    ")"
   ]
  },
  {
   "cell_type": "markdown",
   "metadata": {},
   "source": [
    "This did not really change performance. I will next attempt using the leaky relu layer in the model"
   ]
  },
  {
   "cell_type": "code",
   "execution_count": 27,
   "metadata": {},
   "outputs": [],
   "source": [
    "#https://www.tensorflow.org/api_docs/python/tf/keras/layers/LeakyReLU\n",
    "model = Sequential([\n",
    "  data_augmentation,\n",
    "  layers.experimental.preprocessing.Rescaling(1./255),\n",
    "  layers.Conv2D(16, 3, padding='valid'),\n",
    "  layers.LeakyReLU(),\n",
    "  layers.MaxPooling2D(),\n",
    "  layers.Conv2D(32, 3, padding='valid'),\n",
    "  layers.LeakyReLU(),\n",
    "  layers.MaxPooling2D(),\n",
    "  layers.Conv2D(64, 3, padding='valid'),\n",
    "  layers.LeakyReLU(),\n",
    "  layers.MaxPooling2D(),\n",
    "  layers.Dropout(0.2),\n",
    "  layers.Flatten(),\n",
    "  layers.Dense(128, activation='relu'),\n",
    "  layers.Dense(num_classes)\n",
    "])"
   ]
  },
  {
   "cell_type": "code",
   "execution_count": 28,
   "metadata": {},
   "outputs": [],
   "source": [
    "model.compile(optimizer='adam',\n",
    "              loss=tf.keras.losses.SparseCategoricalCrossentropy(from_logits=True),\n",
    "              metrics=['accuracy'])"
   ]
  },
  {
   "cell_type": "code",
   "execution_count": 29,
   "metadata": {},
   "outputs": [
    {
     "name": "stdout",
     "output_type": "stream",
     "text": [
      "Epoch 1/10\n",
      "702/702 [==============================] - 309s 440ms/step - loss: 0.3934 - accuracy: 0.8255 - val_loss: 0.1860 - val_accuracy: 0.9415\n",
      "Epoch 2/10\n",
      "702/702 [==============================] - 308s 439ms/step - loss: 0.2028 - accuracy: 0.9366 - val_loss: 0.1675 - val_accuracy: 0.9499\n",
      "Epoch 3/10\n",
      "702/702 [==============================] - 307s 437ms/step - loss: 0.1771 - accuracy: 0.9452 - val_loss: 0.1559 - val_accuracy: 0.9539\n",
      "Epoch 4/10\n",
      "702/702 [==============================] - 309s 440ms/step - loss: 0.1646 - accuracy: 0.9480 - val_loss: 0.1295 - val_accuracy: 0.9611\n",
      "Epoch 5/10\n",
      "702/702 [==============================] - 307s 437ms/step - loss: 0.1631 - accuracy: 0.9486 - val_loss: 0.1347 - val_accuracy: 0.9543\n",
      "Epoch 6/10\n",
      "702/702 [==============================] - 308s 438ms/step - loss: 0.1552 - accuracy: 0.9510 - val_loss: 0.1248 - val_accuracy: 0.9631\n",
      "Epoch 7/10\n",
      "702/702 [==============================] - 308s 438ms/step - loss: 0.1519 - accuracy: 0.9520 - val_loss: 0.1254 - val_accuracy: 0.9627\n",
      "Epoch 8/10\n",
      "702/702 [==============================] - 308s 438ms/step - loss: 0.1476 - accuracy: 0.9527 - val_loss: 0.1191 - val_accuracy: 0.9639\n",
      "Epoch 9/10\n",
      "702/702 [==============================] - 308s 438ms/step - loss: 0.1453 - accuracy: 0.9526 - val_loss: 0.1291 - val_accuracy: 0.9615\n",
      "Epoch 10/10\n",
      "702/702 [==============================] - 312s 444ms/step - loss: 0.1430 - accuracy: 0.9533 - val_loss: 0.1410 - val_accuracy: 0.9539\n"
     ]
    }
   ],
   "source": [
    "epochs = 10\n",
    "history = model.fit(\n",
    "  train_ds,\n",
    "  validation_data=val_ds,\n",
    "  epochs=epochs\n",
    ")"
   ]
  },
  {
   "cell_type": "markdown",
   "metadata": {},
   "source": [
    "This actually decreased accuracy, I will therefore return to using the relu activation function.\n",
    "\n",
    "for my next step, I want to see if adding a layer improves output."
   ]
  },
  {
   "cell_type": "code",
   "execution_count": 30,
   "metadata": {},
   "outputs": [],
   "source": [
    "model = Sequential([\n",
    "  data_augmentation,#my additional data augmentation layer\n",
    "  layers.experimental.preprocessing.Rescaling(1./255),\n",
    "  layers.Conv2D(16, 3, padding='valid', activation='relu'),\n",
    "  layers.MaxPooling2D(),\n",
    "  layers.Conv2D(32, 3, padding='valid', activation='relu'),\n",
    "  layers.MaxPooling2D(),\n",
    "  layers.Conv2D(64, 3, padding='valid', activation='relu'),\n",
    "  layers.MaxPooling2D(),\n",
    "  layers.Conv2D(128, 3, padding='valid', activation='relu'),\n",
    "  layers.MaxPooling2D(),\n",
    "  layers.Dropout(.2),\n",
    "  layers.Flatten(),\n",
    "  layers.Dense(128, activation='relu'),\n",
    "  layers.Dense(num_classes)\n",
    "])"
   ]
  },
  {
   "cell_type": "code",
   "execution_count": 31,
   "metadata": {},
   "outputs": [],
   "source": [
    "model.compile(optimizer='adam',\n",
    "              loss=tf.keras.losses.SparseCategoricalCrossentropy(from_logits=True),\n",
    "              metrics=['accuracy'])"
   ]
  },
  {
   "cell_type": "code",
   "execution_count": 32,
   "metadata": {},
   "outputs": [
    {
     "name": "stdout",
     "output_type": "stream",
     "text": [
      "Epoch 1/10\n",
      "702/702 [==============================] - 307s 437ms/step - loss: 0.5224 - accuracy: 0.7009 - val_loss: 0.1568 - val_accuracy: 0.9527\n",
      "Epoch 2/10\n",
      "702/702 [==============================] - 304s 433ms/step - loss: 0.1712 - accuracy: 0.9466 - val_loss: 0.1255 - val_accuracy: 0.9607\n",
      "Epoch 3/10\n",
      "702/702 [==============================] - 305s 435ms/step - loss: 0.1545 - accuracy: 0.9512 - val_loss: 0.1371 - val_accuracy: 0.9607\n",
      "Epoch 4/10\n",
      "702/702 [==============================] - 313s 446ms/step - loss: 0.1431 - accuracy: 0.9531 - val_loss: 0.1245 - val_accuracy: 0.9627\n",
      "Epoch 5/10\n",
      "702/702 [==============================] - 304s 433ms/step - loss: 0.1407 - accuracy: 0.9539 - val_loss: 0.1152 - val_accuracy: 0.9659\n",
      "Epoch 6/10\n",
      "702/702 [==============================] - 307s 437ms/step - loss: 0.1412 - accuracy: 0.9538 - val_loss: 0.1183 - val_accuracy: 0.9639\n",
      "Epoch 7/10\n",
      "702/702 [==============================] - 306s 436ms/step - loss: 0.1340 - accuracy: 0.9561 - val_loss: 0.1218 - val_accuracy: 0.9627\n",
      "Epoch 8/10\n",
      "702/702 [==============================] - 305s 435ms/step - loss: 0.1359 - accuracy: 0.9562 - val_loss: 0.1169 - val_accuracy: 0.9631\n",
      "Epoch 9/10\n",
      "702/702 [==============================] - 303s 431ms/step - loss: 0.1336 - accuracy: 0.9557 - val_loss: 0.1149 - val_accuracy: 0.9643\n",
      "Epoch 10/10\n",
      "702/702 [==============================] - 303s 432ms/step - loss: 0.1305 - accuracy: 0.9569 - val_loss: 0.1088 - val_accuracy: 0.9679\n"
     ]
    }
   ],
   "source": [
    "epochs = 10\n",
    "history = model.fit(\n",
    "  train_ds,\n",
    "  validation_data=val_ds,\n",
    "  epochs=epochs\n",
    ")"
   ]
  },
  {
   "cell_type": "markdown",
   "metadata": {},
   "source": [
    "This did lead to better performance. I will therefore keep the extra layer in my final model. \n",
    "\n",
    "My next step will be to test other optimizers. Based on the recommendations out there: https://towardsdatascience.com/7-tips-to-choose-the-best-optimizer-47bb9c1219e ; https://www.tensorflow.org/api_docs/python/tf/keras/optimizers\n",
    "it seems like Adam is the best of the adaptive optimizers, while SGD (stochastic gradient decent) despite generally being less effective, is still able, in some cases to produce strong results. I will also try Nadam, which incorporates Nesterov Momentum into the adam algorithm (http://cs229.stanford.edu/proj2015/054_report.pdf) and Adamax which is similar to Adam and is therefore worth comparing.\n",
    "\n",
    "In addition to the optimizers, I used tensorboard to evaluate different dropout rates and the final number of units in the dense layer. \n",
    "\n",
    "Note: I used Tensorboard in Google Colab to compare these models directly, but you can also see them written out below"
   ]
  },
  {
   "cell_type": "code",
   "execution_count": 33,
   "metadata": {},
   "outputs": [],
   "source": [
    "model = Sequential([\n",
    "  data_augmentation,#my additional data augmentation layer\n",
    "  layers.experimental.preprocessing.Rescaling(1./255),\n",
    "  layers.Conv2D(16, 3, padding='valid', activation='relu'),\n",
    "  layers.MaxPooling2D(),\n",
    "  layers.Conv2D(32, 3, padding='valid', activation='relu'),\n",
    "  layers.MaxPooling2D(),\n",
    "  layers.Conv2D(64, 3, padding='valid', activation='relu'),\n",
    "  layers.MaxPooling2D(),\n",
    "  layers.Conv2D(128, 3, padding='valid', activation='relu'),\n",
    "  layers.MaxPooling2D(),\n",
    "  layers.Dropout(.2),\n",
    "  layers.Flatten(),\n",
    "  layers.Dense(128, activation='relu'),\n",
    "  layers.Dense(num_classes)\n",
    "])"
   ]
  },
  {
   "cell_type": "code",
   "execution_count": 34,
   "metadata": {},
   "outputs": [],
   "source": [
    "#https://www.tensorflow.org/api_docs/python/tf/keras/optimizers\n",
    "model.compile(optimizer='Nadam',\n",
    "              loss=tf.keras.losses.SparseCategoricalCrossentropy(from_logits=True),\n",
    "              metrics=['accuracy'])"
   ]
  },
  {
   "cell_type": "code",
   "execution_count": 35,
   "metadata": {},
   "outputs": [
    {
     "name": "stdout",
     "output_type": "stream",
     "text": [
      "Epoch 1/10\n",
      "702/702 [==============================] - 315s 449ms/step - loss: 0.6925 - accuracy: 0.5704 - val_loss: 0.6273 - val_accuracy: 0.6637\n",
      "Epoch 2/10\n",
      "702/702 [==============================] - 314s 448ms/step - loss: 0.2033 - accuracy: 0.9299 - val_loss: 0.1362 - val_accuracy: 0.9599\n",
      "Epoch 3/10\n",
      "702/702 [==============================] - 312s 445ms/step - loss: 0.1559 - accuracy: 0.9506 - val_loss: 0.1452 - val_accuracy: 0.9567\n",
      "Epoch 4/10\n",
      "702/702 [==============================] - 313s 446ms/step - loss: 0.1436 - accuracy: 0.9530 - val_loss: 0.1173 - val_accuracy: 0.9635\n",
      "Epoch 5/10\n",
      "702/702 [==============================] - 311s 442ms/step - loss: 0.1396 - accuracy: 0.9556 - val_loss: 0.1199 - val_accuracy: 0.9599\n",
      "Epoch 6/10\n",
      "702/702 [==============================] - 312s 444ms/step - loss: 0.1360 - accuracy: 0.9566 - val_loss: 0.1105 - val_accuracy: 0.9635\n",
      "Epoch 7/10\n",
      "702/702 [==============================] - 314s 447ms/step - loss: 0.1317 - accuracy: 0.9572 - val_loss: 0.1231 - val_accuracy: 0.9671\n",
      "Epoch 8/10\n",
      "702/702 [==============================] - 314s 447ms/step - loss: 0.1325 - accuracy: 0.9559 - val_loss: 0.1103 - val_accuracy: 0.9651\n",
      "Epoch 9/10\n",
      "702/702 [==============================] - 312s 444ms/step - loss: 0.1292 - accuracy: 0.9571 - val_loss: 0.1088 - val_accuracy: 0.9671\n",
      "Epoch 10/10\n",
      "702/702 [==============================] - 311s 443ms/step - loss: 0.1285 - accuracy: 0.9574 - val_loss: 0.1150 - val_accuracy: 0.9627\n"
     ]
    }
   ],
   "source": [
    "epochs = 10\n",
    "history = model.fit(\n",
    "  train_ds,\n",
    "  validation_data=val_ds,\n",
    "  epochs=epochs\n",
    ")"
   ]
  },
  {
   "cell_type": "code",
   "execution_count": 36,
   "metadata": {},
   "outputs": [],
   "source": [
    "model = Sequential([\n",
    "  data_augmentation,#my additional data augmentation layer\n",
    "  layers.experimental.preprocessing.Rescaling(1./255),\n",
    "  layers.Conv2D(16, 3, padding='valid', activation='relu'),\n",
    "  layers.MaxPooling2D(),\n",
    "  layers.Conv2D(32, 3, padding='valid', activation='relu'),\n",
    "  layers.MaxPooling2D(),\n",
    "  layers.Conv2D(64, 3, padding='valid', activation='relu'),\n",
    "  layers.MaxPooling2D(),\n",
    "  layers.Conv2D(128, 3, padding='valid', activation='relu'),\n",
    "  layers.MaxPooling2D(),\n",
    "  layers.Dropout(.2),\n",
    "  layers.Flatten(),\n",
    "  layers.Dense(128, activation='relu'),\n",
    "  layers.Dense(num_classes)\n",
    "])"
   ]
  },
  {
   "cell_type": "code",
   "execution_count": 37,
   "metadata": {},
   "outputs": [],
   "source": [
    "model.compile(optimizer='SGD',\n",
    "              loss=tf.keras.losses.SparseCategoricalCrossentropy(from_logits=True),\n",
    "              metrics=['accuracy'])"
   ]
  },
  {
   "cell_type": "code",
   "execution_count": 38,
   "metadata": {},
   "outputs": [
    {
     "name": "stdout",
     "output_type": "stream",
     "text": [
      "Epoch 1/10\n",
      "702/702 [==============================] - 305s 435ms/step - loss: 0.6644 - accuracy: 0.5953 - val_loss: 0.5987 - val_accuracy: 0.6790\n",
      "Epoch 2/10\n",
      "702/702 [==============================] - 306s 435ms/step - loss: 0.4458 - accuracy: 0.8029 - val_loss: 0.2208 - val_accuracy: 0.9138\n",
      "Epoch 3/10\n",
      "702/702 [==============================] - 307s 438ms/step - loss: 0.2287 - accuracy: 0.9195 - val_loss: 0.1860 - val_accuracy: 0.9371\n",
      "Epoch 4/10\n",
      "702/702 [==============================] - 306s 435ms/step - loss: 0.2085 - accuracy: 0.9298 - val_loss: 0.1684 - val_accuracy: 0.9487\n",
      "Epoch 5/10\n",
      "702/702 [==============================] - 305s 434ms/step - loss: 0.1951 - accuracy: 0.9359 - val_loss: 0.1672 - val_accuracy: 0.9435\n",
      "Epoch 6/10\n",
      "702/702 [==============================] - 305s 435ms/step - loss: 0.1852 - accuracy: 0.9395 - val_loss: 0.1537 - val_accuracy: 0.9559\n",
      "Epoch 7/10\n",
      "702/702 [==============================] - 303s 432ms/step - loss: 0.1825 - accuracy: 0.9416 - val_loss: 0.1718 - val_accuracy: 0.9435\n",
      "Epoch 8/10\n",
      "702/702 [==============================] - 304s 433ms/step - loss: 0.1744 - accuracy: 0.9452 - val_loss: 0.1527 - val_accuracy: 0.9543\n",
      "Epoch 9/10\n",
      "702/702 [==============================] - 304s 434ms/step - loss: 0.1746 - accuracy: 0.9451 - val_loss: 0.1486 - val_accuracy: 0.9591\n",
      "Epoch 10/10\n",
      "702/702 [==============================] - 304s 433ms/step - loss: 0.1663 - accuracy: 0.9487 - val_loss: 0.1469 - val_accuracy: 0.9563\n"
     ]
    }
   ],
   "source": [
    "epochs = 10\n",
    "history = model.fit(\n",
    "  train_ds,\n",
    "  validation_data=val_ds,\n",
    "  epochs=epochs\n",
    ")"
   ]
  },
  {
   "cell_type": "code",
   "execution_count": 39,
   "metadata": {},
   "outputs": [],
   "source": [
    "model = Sequential([\n",
    "  data_augmentation,#my additional data augmentation layer\n",
    "  layers.experimental.preprocessing.Rescaling(1./255),\n",
    "  layers.Conv2D(16, 3, padding='valid', activation='relu'),\n",
    "  layers.MaxPooling2D(),\n",
    "  layers.Conv2D(32, 3, padding='valid', activation='relu'),\n",
    "  layers.MaxPooling2D(),\n",
    "  layers.Conv2D(64, 3, padding='valid', activation='relu'),\n",
    "  layers.MaxPooling2D(),\n",
    "  layers.Conv2D(128, 3, padding='valid', activation='relu'),\n",
    "  layers.MaxPooling2D(),\n",
    "  layers.Dropout(.2),\n",
    "  layers.Flatten(),\n",
    "  layers.Dense(128, activation='relu'),\n",
    "  layers.Dense(num_classes)\n",
    "])"
   ]
  },
  {
   "cell_type": "code",
   "execution_count": 40,
   "metadata": {},
   "outputs": [],
   "source": [
    "model.compile(optimizer='Adamax',\n",
    "              loss=tf.keras.losses.SparseCategoricalCrossentropy(from_logits=True),\n",
    "              metrics=['accuracy'])"
   ]
  },
  {
   "cell_type": "code",
   "execution_count": 41,
   "metadata": {},
   "outputs": [
    {
     "name": "stdout",
     "output_type": "stream",
     "text": [
      "Epoch 1/10\n",
      "702/702 [==============================] - 311s 443ms/step - loss: 0.4226 - accuracy: 0.7852 - val_loss: 0.1727 - val_accuracy: 0.9331\n",
      "Epoch 2/10\n",
      "702/702 [==============================] - 308s 438ms/step - loss: 0.1932 - accuracy: 0.9310 - val_loss: 0.1567 - val_accuracy: 0.9495\n",
      "Epoch 3/10\n",
      "702/702 [==============================] - 308s 439ms/step - loss: 0.1795 - accuracy: 0.9406 - val_loss: 0.1461 - val_accuracy: 0.9555\n",
      "Epoch 4/10\n",
      "702/702 [==============================] - 308s 439ms/step - loss: 0.1692 - accuracy: 0.9456 - val_loss: 0.1399 - val_accuracy: 0.9607\n",
      "Epoch 5/10\n",
      "702/702 [==============================] - 309s 440ms/step - loss: 0.1566 - accuracy: 0.9509 - val_loss: 0.1321 - val_accuracy: 0.9635\n",
      "Epoch 6/10\n",
      "702/702 [==============================] - 310s 441ms/step - loss: 0.1462 - accuracy: 0.9533 - val_loss: 0.1448 - val_accuracy: 0.9603\n",
      "Epoch 7/10\n",
      "702/702 [==============================] - 308s 439ms/step - loss: 0.1448 - accuracy: 0.9518 - val_loss: 0.1120 - val_accuracy: 0.9635\n",
      "Epoch 8/10\n",
      "702/702 [==============================] - 307s 438ms/step - loss: 0.1370 - accuracy: 0.9540 - val_loss: 0.1244 - val_accuracy: 0.9603\n",
      "Epoch 9/10\n",
      "702/702 [==============================] - 308s 438ms/step - loss: 0.1352 - accuracy: 0.9550 - val_loss: 0.1099 - val_accuracy: 0.9635\n",
      "Epoch 10/10\n",
      "702/702 [==============================] - 307s 438ms/step - loss: 0.1282 - accuracy: 0.9554 - val_loss: 0.1120 - val_accuracy: 0.9603\n"
     ]
    }
   ],
   "source": [
    "epochs = 10\n",
    "history = model.fit(\n",
    "  train_ds,\n",
    "  validation_data=val_ds,\n",
    "  epochs=epochs\n",
    ")"
   ]
  },
  {
   "cell_type": "markdown",
   "metadata": {},
   "source": [
    "Next I will test across different units (between 128 and 256) for the dense layer. I will then test the outputs with a dropout rate of .1"
   ]
  },
  {
   "cell_type": "code",
   "execution_count": 42,
   "metadata": {},
   "outputs": [],
   "source": [
    "model = Sequential([\n",
    "  data_augmentation,#my additional data augmentation layer\n",
    "  layers.experimental.preprocessing.Rescaling(1./255),\n",
    "  layers.Conv2D(16, 3, padding='valid', activation='relu'),\n",
    "  layers.MaxPooling2D(),\n",
    "  layers.Conv2D(32, 3, padding='valid', activation='relu'),\n",
    "  layers.MaxPooling2D(),\n",
    "  layers.Conv2D(64, 3, padding='valid', activation='relu'),\n",
    "  layers.MaxPooling2D(),\n",
    "  layers.Conv2D(128, 3, padding='valid', activation='relu'),\n",
    "  layers.MaxPooling2D(),\n",
    "  layers.Dropout(.2),\n",
    "  layers.Flatten(),\n",
    "  layers.Dense(256, activation='relu'),\n",
    "  layers.Dense(num_classes)\n",
    "])"
   ]
  },
  {
   "cell_type": "code",
   "execution_count": 43,
   "metadata": {},
   "outputs": [],
   "source": [
    "model.compile(optimizer='adam',\n",
    "              loss=tf.keras.losses.SparseCategoricalCrossentropy(from_logits=True),\n",
    "              metrics=['accuracy'])"
   ]
  },
  {
   "cell_type": "code",
   "execution_count": 44,
   "metadata": {},
   "outputs": [
    {
     "name": "stdout",
     "output_type": "stream",
     "text": [
      "Epoch 1/10\n",
      "702/702 [==============================] - 316s 450ms/step - loss: 0.2727 - accuracy: 0.8904 - val_loss: 0.1518 - val_accuracy: 0.9527\n",
      "Epoch 2/10\n",
      "702/702 [==============================] - 312s 444ms/step - loss: 0.1587 - accuracy: 0.9499 - val_loss: 0.1143 - val_accuracy: 0.9635\n",
      "Epoch 3/10\n",
      "702/702 [==============================] - 309s 440ms/step - loss: 0.1534 - accuracy: 0.9514 - val_loss: 0.1117 - val_accuracy: 0.9643\n",
      "Epoch 4/10\n",
      "702/702 [==============================] - 310s 442ms/step - loss: 0.1427 - accuracy: 0.9547 - val_loss: 0.1117 - val_accuracy: 0.9639\n",
      "Epoch 5/10\n",
      "702/702 [==============================] - 310s 442ms/step - loss: 0.1408 - accuracy: 0.9545 - val_loss: 0.1180 - val_accuracy: 0.9635\n",
      "Epoch 6/10\n",
      "702/702 [==============================] - 312s 445ms/step - loss: 0.1372 - accuracy: 0.9553 - val_loss: 0.1192 - val_accuracy: 0.9615\n",
      "Epoch 7/10\n",
      "702/702 [==============================] - 320s 456ms/step - loss: 0.1306 - accuracy: 0.9566 - val_loss: 0.1078 - val_accuracy: 0.9647\n",
      "Epoch 8/10\n",
      "702/702 [==============================] - 318s 453ms/step - loss: 0.1287 - accuracy: 0.9570 - val_loss: 0.1118 - val_accuracy: 0.9615\n",
      "Epoch 9/10\n",
      "702/702 [==============================] - 317s 452ms/step - loss: 0.1284 - accuracy: 0.9562 - val_loss: 0.1079 - val_accuracy: 0.9635\n",
      "Epoch 10/10\n",
      "702/702 [==============================] - 316s 450ms/step - loss: 0.1247 - accuracy: 0.9574 - val_loss: 0.1250 - val_accuracy: 0.9551\n"
     ]
    }
   ],
   "source": [
    "epochs = 10\n",
    "history = model.fit(\n",
    "  train_ds,\n",
    "  validation_data=val_ds,\n",
    "  epochs=epochs\n",
    ")"
   ]
  },
  {
   "cell_type": "code",
   "execution_count": 45,
   "metadata": {},
   "outputs": [],
   "source": [
    "model = Sequential([\n",
    "  data_augmentation,#my additional data augmentation layer\n",
    "  layers.experimental.preprocessing.Rescaling(1./255),\n",
    "  layers.Conv2D(16, 3, padding='valid', activation='relu'),\n",
    "  layers.MaxPooling2D(),\n",
    "  layers.Conv2D(32, 3, padding='valid', activation='relu'),\n",
    "  layers.MaxPooling2D(),\n",
    "  layers.Conv2D(64, 3, padding='valid', activation='relu'),\n",
    "  layers.MaxPooling2D(),\n",
    "  layers.Conv2D(128, 3, padding='valid', activation='relu'),\n",
    "  layers.MaxPooling2D(),\n",
    "  layers.Dropout(.2),\n",
    "  layers.Flatten(),\n",
    "  layers.Dense(256, activation='relu'),\n",
    "  layers.Dense(num_classes)\n",
    "])"
   ]
  },
  {
   "cell_type": "code",
   "execution_count": 46,
   "metadata": {},
   "outputs": [],
   "source": [
    "model.compile(optimizer='SGD',\n",
    "              loss=tf.keras.losses.SparseCategoricalCrossentropy(from_logits=True),\n",
    "              metrics=['accuracy'])"
   ]
  },
  {
   "cell_type": "code",
   "execution_count": 47,
   "metadata": {},
   "outputs": [
    {
     "name": "stdout",
     "output_type": "stream",
     "text": [
      "Epoch 1/10\n",
      "702/702 [==============================] - 317s 451ms/step - loss: 0.6829 - accuracy: 0.5524 - val_loss: 0.6558 - val_accuracy: 0.6068\n",
      "Epoch 2/10\n",
      "702/702 [==============================] - 320s 456ms/step - loss: 0.6182 - accuracy: 0.6609 - val_loss: 0.4871 - val_accuracy: 0.7960\n",
      "Epoch 3/10\n",
      "702/702 [==============================] - 318s 452ms/step - loss: 0.3351 - accuracy: 0.8685 - val_loss: 0.1846 - val_accuracy: 0.9335\n",
      "Epoch 4/10\n",
      "702/702 [==============================] - 332s 474ms/step - loss: 0.2287 - accuracy: 0.9224 - val_loss: 0.1762 - val_accuracy: 0.9407\n",
      "Epoch 5/10\n",
      "702/702 [==============================] - 355s 505ms/step - loss: 0.2070 - accuracy: 0.9278 - val_loss: 0.1687 - val_accuracy: 0.9507\n",
      "Epoch 6/10\n",
      "702/702 [==============================] - 310s 442ms/step - loss: 0.1926 - accuracy: 0.9365 - val_loss: 0.1858 - val_accuracy: 0.9451\n",
      "Epoch 7/10\n",
      "702/702 [==============================] - 338s 481ms/step - loss: 0.1829 - accuracy: 0.9417 - val_loss: 0.1641 - val_accuracy: 0.9515\n",
      "Epoch 8/10\n",
      "702/702 [==============================] - 327s 465ms/step - loss: 0.1760 - accuracy: 0.9455 - val_loss: 0.1494 - val_accuracy: 0.9559\n",
      "Epoch 9/10\n",
      "702/702 [==============================] - 326s 464ms/step - loss: 0.1729 - accuracy: 0.9465 - val_loss: 0.1526 - val_accuracy: 0.9503\n",
      "Epoch 10/10\n",
      "702/702 [==============================] - 339s 483ms/step - loss: 0.1667 - accuracy: 0.9486 - val_loss: 0.1501 - val_accuracy: 0.9531\n"
     ]
    }
   ],
   "source": [
    "epochs = 10\n",
    "history = model.fit(\n",
    "  train_ds,\n",
    "  validation_data=val_ds,\n",
    "  epochs=epochs\n",
    ")"
   ]
  },
  {
   "cell_type": "code",
   "execution_count": 48,
   "metadata": {},
   "outputs": [],
   "source": [
    "model = Sequential([\n",
    "  data_augmentation,#my additional data augmentation layer\n",
    "  layers.experimental.preprocessing.Rescaling(1./255),\n",
    "  layers.Conv2D(16, 3, padding='valid', activation='relu'),\n",
    "  layers.MaxPooling2D(),\n",
    "  layers.Conv2D(32, 3, padding='valid', activation='relu'),\n",
    "  layers.MaxPooling2D(),\n",
    "  layers.Conv2D(64, 3, padding='valid', activation='relu'),\n",
    "  layers.MaxPooling2D(),\n",
    "  layers.Conv2D(128, 3, padding='valid', activation='relu'),\n",
    "  layers.MaxPooling2D(),\n",
    "  layers.Dropout(.2),\n",
    "  layers.Flatten(),\n",
    "  layers.Dense(256, activation='relu'),\n",
    "  layers.Dense(num_classes)\n",
    "])"
   ]
  },
  {
   "cell_type": "code",
   "execution_count": 49,
   "metadata": {},
   "outputs": [],
   "source": [
    "model.compile(optimizer='Nadam',\n",
    "              loss=tf.keras.losses.SparseCategoricalCrossentropy(from_logits=True),\n",
    "              metrics=['accuracy'])"
   ]
  },
  {
   "cell_type": "code",
   "execution_count": 50,
   "metadata": {},
   "outputs": [
    {
     "name": "stdout",
     "output_type": "stream",
     "text": [
      "Epoch 1/10\n",
      "702/702 [==============================] - 356s 507ms/step - loss: 0.6884 - accuracy: 0.5525 - val_loss: 0.6669 - val_accuracy: 0.5896\n",
      "Epoch 2/10\n",
      "702/702 [==============================] - 507s 722ms/step - loss: 0.3461 - accuracy: 0.8352 - val_loss: 0.1411 - val_accuracy: 0.9619\n",
      "Epoch 3/10\n",
      "702/702 [==============================] - 461s 657ms/step - loss: 0.1605 - accuracy: 0.9487 - val_loss: 0.1311 - val_accuracy: 0.9599\n",
      "Epoch 4/10\n",
      "702/702 [==============================] - 571s 814ms/step - loss: 0.1477 - accuracy: 0.9521 - val_loss: 0.1214 - val_accuracy: 0.9639\n",
      "Epoch 5/10\n",
      "702/702 [==============================] - 590s 840ms/step - loss: 0.1410 - accuracy: 0.9532 - val_loss: 0.1243 - val_accuracy: 0.9647\n",
      "Epoch 6/10\n",
      "702/702 [==============================] - 643s 917ms/step - loss: 0.1354 - accuracy: 0.9551 - val_loss: 0.1332 - val_accuracy: 0.9615\n",
      "Epoch 7/10\n",
      "702/702 [==============================] - 676s 963ms/step - loss: 0.1326 - accuracy: 0.9562 - val_loss: 0.1175 - val_accuracy: 0.9627\n",
      "Epoch 8/10\n",
      "702/702 [==============================] - 685s 976ms/step - loss: 0.1301 - accuracy: 0.9564 - val_loss: 0.1087 - val_accuracy: 0.9631\n",
      "Epoch 9/10\n",
      "702/702 [==============================] - 754s 1s/step - loss: 0.1283 - accuracy: 0.9570 - val_loss: 0.1066 - val_accuracy: 0.9675\n",
      "Epoch 10/10\n",
      "702/702 [==============================] - 734s 1s/step - loss: 0.1247 - accuracy: 0.9582 - val_loss: 0.1055 - val_accuracy: 0.9679\n"
     ]
    }
   ],
   "source": [
    "epochs = 10\n",
    "history = model.fit(\n",
    "  train_ds,\n",
    "  validation_data=val_ds,\n",
    "  epochs=epochs\n",
    ")"
   ]
  },
  {
   "cell_type": "code",
   "execution_count": 51,
   "metadata": {},
   "outputs": [],
   "source": [
    "model = Sequential([\n",
    "  data_augmentation,#my additional data augmentation layer\n",
    "  layers.experimental.preprocessing.Rescaling(1./255),\n",
    "  layers.Conv2D(16, 3, padding='valid', activation='relu'),\n",
    "  layers.MaxPooling2D(),\n",
    "  layers.Conv2D(32, 3, padding='valid', activation='relu'),\n",
    "  layers.MaxPooling2D(),\n",
    "  layers.Conv2D(64, 3, padding='valid', activation='relu'),\n",
    "  layers.MaxPooling2D(),\n",
    "  layers.Conv2D(128, 3, padding='valid', activation='relu'),\n",
    "  layers.MaxPooling2D(),\n",
    "  layers.Dropout(.2),\n",
    "  layers.Flatten(),\n",
    "  layers.Dense(256, activation='relu'),\n",
    "  layers.Dense(num_classes)\n",
    "])"
   ]
  },
  {
   "cell_type": "code",
   "execution_count": 52,
   "metadata": {},
   "outputs": [],
   "source": [
    "model.compile(optimizer='Adamax',\n",
    "              loss=tf.keras.losses.SparseCategoricalCrossentropy(from_logits=True),\n",
    "              metrics=['accuracy'])"
   ]
  },
  {
   "cell_type": "code",
   "execution_count": 53,
   "metadata": {},
   "outputs": [
    {
     "name": "stdout",
     "output_type": "stream",
     "text": [
      "Epoch 1/10\n",
      "702/702 [==============================] - 1007s 1s/step - loss: 0.4736 - accuracy: 0.7555 - val_loss: 0.1823 - val_accuracy: 0.9439\n",
      "Epoch 2/10\n",
      "702/702 [==============================] - 1208s 2s/step - loss: 0.2021 - accuracy: 0.9285 - val_loss: 0.1571 - val_accuracy: 0.9507\n",
      "Epoch 3/10\n",
      "702/702 [==============================] - 1551s 2s/step - loss: 0.1762 - accuracy: 0.9401 - val_loss: 0.1441 - val_accuracy: 0.9523\n",
      "Epoch 4/10\n",
      "702/702 [==============================] - 1285s 2s/step - loss: 0.1578 - accuracy: 0.9476 - val_loss: 0.1219 - val_accuracy: 0.9639\n",
      "Epoch 5/10\n",
      "702/702 [==============================] - 1169s 2s/step - loss: 0.1481 - accuracy: 0.9514 - val_loss: 0.1219 - val_accuracy: 0.9595\n",
      "Epoch 6/10\n",
      "702/702 [==============================] - 1296s 2s/step - loss: 0.1399 - accuracy: 0.9537 - val_loss: 0.1120 - val_accuracy: 0.9635\n",
      "Epoch 7/10\n",
      "702/702 [==============================] - 1248s 2s/step - loss: 0.1375 - accuracy: 0.9557 - val_loss: 0.1081 - val_accuracy: 0.9667\n",
      "Epoch 8/10\n",
      "702/702 [==============================] - 1247s 2s/step - loss: 0.1332 - accuracy: 0.9543 - val_loss: 0.1185 - val_accuracy: 0.9611\n",
      "Epoch 9/10\n",
      "702/702 [==============================] - 1350s 2s/step - loss: 0.1307 - accuracy: 0.9553 - val_loss: 0.1098 - val_accuracy: 0.9607\n",
      "Epoch 10/10\n",
      "702/702 [==============================] - 1336s 2s/step - loss: 0.1279 - accuracy: 0.9557 - val_loss: 0.1075 - val_accuracy: 0.9651\n"
     ]
    }
   ],
   "source": [
    "epochs = 10\n",
    "history = model.fit(\n",
    "  train_ds,\n",
    "  validation_data=val_ds,\n",
    "  epochs=epochs\n",
    ")"
   ]
  },
  {
   "cell_type": "markdown",
   "metadata": {},
   "source": [
    "Result\n",
    "\n",
    "Finally I will test with a dropout rate of 10%"
   ]
  },
  {
   "cell_type": "code",
   "execution_count": 54,
   "metadata": {},
   "outputs": [],
   "source": [
    "model = Sequential([\n",
    "  data_augmentation,#my additional data augmentation layer\n",
    "  layers.experimental.preprocessing.Rescaling(1./255),\n",
    "  layers.Conv2D(16, 3, padding='valid', activation='relu'),\n",
    "  layers.MaxPooling2D(),\n",
    "  layers.Conv2D(32, 3, padding='valid', activation='relu'),\n",
    "  layers.MaxPooling2D(),\n",
    "  layers.Conv2D(64, 3, padding='valid', activation='relu'),\n",
    "  layers.MaxPooling2D(),\n",
    "  layers.Conv2D(128, 3, padding='valid', activation='relu'),\n",
    "  layers.MaxPooling2D(),\n",
    "  layers.Dropout(.1),\n",
    "  layers.Flatten(),\n",
    "  layers.Dense(128, activation='relu'),\n",
    "  layers.Dense(num_classes)\n",
    "])"
   ]
  },
  {
   "cell_type": "code",
   "execution_count": 55,
   "metadata": {},
   "outputs": [],
   "source": [
    "model.compile(optimizer='adam',\n",
    "              loss=tf.keras.losses.SparseCategoricalCrossentropy(from_logits=True),\n",
    "              metrics=['accuracy'])"
   ]
  },
  {
   "cell_type": "code",
   "execution_count": null,
   "metadata": {},
   "outputs": [
    {
     "name": "stdout",
     "output_type": "stream",
     "text": [
      "Epoch 1/10\n",
      "702/702 [==============================] - 1265s 2s/step - loss: 0.3004 - accuracy: 0.8734 - val_loss: 0.1502 - val_accuracy: 0.9575\n",
      "Epoch 2/10\n",
      "702/702 [==============================] - 1267s 2s/step - loss: 0.1590 - accuracy: 0.9501 - val_loss: 0.1439 - val_accuracy: 0.9623\n",
      "Epoch 3/10\n",
      "702/702 [==============================] - 1251s 2s/step - loss: 0.1459 - accuracy: 0.9534 - val_loss: 0.1158 - val_accuracy: 0.9627\n",
      "Epoch 4/10\n",
      "309/702 [============>.................] - ETA: 10:05 - loss: 0.1374 - accuracy: 0.9566"
     ]
    }
   ],
   "source": [
    "epochs = 10\n",
    "history = model.fit(\n",
    "  train_ds,\n",
    "  validation_data=val_ds,\n",
    "  epochs=epochs\n",
    ")"
   ]
  },
  {
   "cell_type": "code",
   "execution_count": null,
   "metadata": {},
   "outputs": [],
   "source": [
    "model = Sequential([\n",
    "  data_augmentation,#my additional data augmentation layer\n",
    "  layers.experimental.preprocessing.Rescaling(1./255),\n",
    "  layers.Conv2D(16, 3, padding='valid', activation='relu'),\n",
    "  layers.MaxPooling2D(),\n",
    "  layers.Conv2D(32, 3, padding='valid', activation='relu'),\n",
    "  layers.MaxPooling2D(),\n",
    "  layers.Conv2D(64, 3, padding='valid', activation='relu'),\n",
    "  layers.MaxPooling2D(),\n",
    "  layers.Conv2D(128, 3, padding='valid', activation='relu'),\n",
    "  layers.MaxPooling2D(),\n",
    "  layers.Dropout(.1),\n",
    "  layers.Flatten(),\n",
    "  layers.Dense(128, activation='relu'),\n",
    "  layers.Dense(num_classes)\n",
    "])"
   ]
  },
  {
   "cell_type": "code",
   "execution_count": null,
   "metadata": {},
   "outputs": [],
   "source": [
    "model.compile(optimizer='SGD',\n",
    "              loss=tf.keras.losses.SparseCategoricalCrossentropy(from_logits=True),\n",
    "              metrics=['accuracy'])"
   ]
  },
  {
   "cell_type": "code",
   "execution_count": null,
   "metadata": {},
   "outputs": [],
   "source": [
    "epochs = 10\n",
    "history = model.fit(\n",
    "  train_ds,\n",
    "  validation_data=val_ds,\n",
    "  epochs=epochs\n",
    ")"
   ]
  },
  {
   "cell_type": "code",
   "execution_count": null,
   "metadata": {},
   "outputs": [],
   "source": [
    "model = Sequential([\n",
    "  data_augmentation,#my additional data augmentation layer\n",
    "  layers.experimental.preprocessing.Rescaling(1./255),\n",
    "  layers.Conv2D(16, 3, padding='valid', activation='relu'),\n",
    "  layers.MaxPooling2D(),\n",
    "  layers.Conv2D(32, 3, padding='valid', activation='relu'),\n",
    "  layers.MaxPooling2D(),\n",
    "  layers.Conv2D(64, 3, padding='valid', activation='relu'),\n",
    "  layers.MaxPooling2D(),\n",
    "  layers.Conv2D(128, 3, padding='valid', activation='relu'),\n",
    "  layers.MaxPooling2D(),\n",
    "  layers.Dropout(.1),\n",
    "  layers.Flatten(),\n",
    "  layers.Dense(128, activation='relu'),\n",
    "  layers.Dense(num_classes)\n",
    "])"
   ]
  },
  {
   "cell_type": "code",
   "execution_count": null,
   "metadata": {},
   "outputs": [],
   "source": [
    "model.compile(optimizer='Nadam',\n",
    "              loss=tf.keras.losses.SparseCategoricalCrossentropy(from_logits=True),\n",
    "              metrics=['accuracy'])"
   ]
  },
  {
   "cell_type": "code",
   "execution_count": null,
   "metadata": {},
   "outputs": [],
   "source": [
    "epochs = 10\n",
    "history = model.fit(\n",
    "  train_ds,\n",
    "  validation_data=val_ds,\n",
    "  epochs=epochs\n",
    ")"
   ]
  },
  {
   "cell_type": "code",
   "execution_count": null,
   "metadata": {},
   "outputs": [],
   "source": [
    "model = Sequential([\n",
    "  data_augmentation,#my additional data augmentation layer\n",
    "  layers.experimental.preprocessing.Rescaling(1./255),\n",
    "  layers.Conv2D(16, 3, padding='valid', activation='relu'),\n",
    "  layers.MaxPooling2D(),\n",
    "  layers.Conv2D(32, 3, padding='valid', activation='relu'),\n",
    "  layers.MaxPooling2D(),\n",
    "  layers.Conv2D(64, 3, padding='valid', activation='relu'),\n",
    "  layers.MaxPooling2D(),\n",
    "  layers.Conv2D(128, 3, padding='valid', activation='relu'),\n",
    "  layers.MaxPooling2D(),\n",
    "  layers.Dropout(.1),\n",
    "  layers.Flatten(),\n",
    "  layers.Dense(128, activation='relu'),\n",
    "  layers.Dense(num_classes)\n",
    "])"
   ]
  },
  {
   "cell_type": "code",
   "execution_count": null,
   "metadata": {},
   "outputs": [],
   "source": [
    "model.compile(optimizer='Adamax',\n",
    "              loss=tf.keras.losses.SparseCategoricalCrossentropy(from_logits=True),\n",
    "              metrics=['accuracy'])"
   ]
  },
  {
   "cell_type": "code",
   "execution_count": null,
   "metadata": {},
   "outputs": [],
   "source": [
    "epochs = 10\n",
    "history = model.fit(\n",
    "  train_ds,\n",
    "  validation_data=val_ds,\n",
    "  epochs=epochs\n",
    ")"
   ]
  },
  {
   "cell_type": "markdown",
   "metadata": {},
   "source": [
    "Okay! So my best results seem to have come from the model with one additional layer (128 filters), valid padding, relu activation function, and the nadam activation function. Below is my final training model and the result of that model on test data!"
   ]
  },
  {
   "cell_type": "code",
   "execution_count": null,
   "metadata": {},
   "outputs": [],
   "source": [
    "model = Sequential([\n",
    "  data_augmentation,#my additional data augmentation layer\n",
    "  layers.experimental.preprocessing.Rescaling(1./255),\n",
    "  layers.Conv2D(16, 3, padding='valid', activation='relu'),\n",
    "  layers.MaxPooling2D(),\n",
    "  layers.Conv2D(32, 3, padding='valid', activation='relu'),\n",
    "  layers.MaxPooling2D(),\n",
    "  layers.Conv2D(64, 3, padding='valid', activation='relu'),\n",
    "  layers.MaxPooling2D(),\n",
    "  layers.Conv2D(128, 3, padding='valid', activation='relu'),\n",
    "  layers.MaxPooling2D(),\n",
    "  layers.Dropout(0.2),\n",
    "  layers.Flatten(),\n",
    "  layers.Dense(128, activation='relu'),\n",
    "  layers.Dense(num_classes)\n",
    "])"
   ]
  },
  {
   "cell_type": "code",
   "execution_count": null,
   "metadata": {},
   "outputs": [],
   "source": [
    "model.summary()"
   ]
  },
  {
   "cell_type": "code",
   "execution_count": null,
   "metadata": {},
   "outputs": [],
   "source": [
    "model.compile(optimizer='Nadam',\n",
    "              loss=tf.keras.losses.SparseCategoricalCrossentropy(from_logits=True),\n",
    "              metrics=['accuracy'])"
   ]
  },
  {
   "cell_type": "code",
   "execution_count": null,
   "metadata": {},
   "outputs": [],
   "source": [
    "epochs = 10\n",
    "history = model.fit(\n",
    "  train_ds,\n",
    "  validation_data=val_ds,\n",
    "  epochs=epochs\n",
    ")"
   ]
  },
  {
   "cell_type": "code",
   "execution_count": null,
   "metadata": {},
   "outputs": [],
   "source": [
    "acc = history.history['accuracy']\n",
    "val_acc = history.history['val_accuracy']\n",
    "\n",
    "loss = history.history['loss']\n",
    "val_loss = history.history['val_loss']\n",
    "\n",
    "epochs_range = range(epochs)\n",
    "\n",
    "plt.figure(figsize=(8, 8))\n",
    "plt.subplot(1, 2, 1)\n",
    "plt.plot(epochs_range, acc, label='Training Accuracy')\n",
    "plt.plot(epochs_range, val_acc, label='Validation Accuracy')\n",
    "plt.legend(loc='lower right')\n",
    "plt.title('Training and Validation Accuracy')\n",
    "\n",
    "plt.subplot(1, 2, 2)\n",
    "plt.plot(epochs_range, loss, label='Training Loss')\n",
    "plt.plot(epochs_range, val_loss, label='Validation Loss')\n",
    "plt.legend(loc='upper right')\n",
    "plt.title('Training and Validation Loss')\n",
    "plt.show()"
   ]
  },
  {
   "cell_type": "code",
   "execution_count": null,
   "metadata": {},
   "outputs": [],
   "source": [
    "#preparing my test data for the model\n",
    "\n",
    "test_data_dir = \"C:/Users/15856/Data 602/FinalProject/Cell_Images/cell_images/test\"\n",
    "test_data_dir = pathlib.Path(test_data_dir)"
   ]
  },
  {
   "cell_type": "code",
   "execution_count": null,
   "metadata": {},
   "outputs": [],
   "source": []
  },
  {
   "cell_type": "code",
   "execution_count": null,
   "metadata": {},
   "outputs": [],
   "source": [
    "batch_size = 32\n",
    "img_height = 200\n",
    "img_width = 200"
   ]
  },
  {
   "cell_type": "code",
   "execution_count": null,
   "metadata": {},
   "outputs": [],
   "source": [
    "#https://www.tensorflow.org/api_docs/python/tf/keras/preprocessing/image_dataset_from_directory\n",
    "\n",
    "test_ds = tf.keras.preprocessing.image_dataset_from_directory(\n",
    "  test_data_dir,\n",
    "  seed=1212020,\n",
    "  image_size=(img_height, img_width),\n",
    "  batch_size=batch_size)"
   ]
  },
  {
   "cell_type": "code",
   "execution_count": null,
   "metadata": {},
   "outputs": [],
   "source": [
    "model.evaluate(test_ds)"
   ]
  },
  {
   "cell_type": "code",
   "execution_count": null,
   "metadata": {},
   "outputs": [],
   "source": []
  },
  {
   "cell_type": "code",
   "execution_count": null,
   "metadata": {},
   "outputs": [],
   "source": []
  }
 ],
 "metadata": {
  "kernelspec": {
   "display_name": "Python 3",
   "language": "python",
   "name": "python3"
  },
  "language_info": {
   "codemirror_mode": {
    "name": "ipython",
    "version": 3
   },
   "file_extension": ".py",
   "mimetype": "text/x-python",
   "name": "python",
   "nbconvert_exporter": "python",
   "pygments_lexer": "ipython3",
   "version": "3.8.3"
  }
 },
 "nbformat": 4,
 "nbformat_minor": 4
}
