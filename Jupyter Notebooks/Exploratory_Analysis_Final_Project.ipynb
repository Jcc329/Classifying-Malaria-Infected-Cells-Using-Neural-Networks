{
  "nbformat": 4,
  "nbformat_minor": 0,
  "metadata": {
    "kernelspec": {
      "display_name": "Python 3",
      "language": "python",
      "name": "python3"
    },
    "language_info": {
      "codemirror_mode": {
        "name": "ipython",
        "version": 3
      },
      "file_extension": ".py",
      "mimetype": "text/x-python",
      "name": "python",
      "nbconvert_exporter": "python",
      "pygments_lexer": "ipython3",
      "version": "3.8.3"
    },
    "colab": {
      "name": "Exploratory Analysis_Final Project.ipynb",
      "provenance": [],
      "machine_shape": "hm"
    },
    "accelerator": "GPU"
  },
  "cells": [
    {
      "cell_type": "markdown",
      "metadata": {
        "id": "HUNK9BA-jdxB"
      },
      "source": [
        "# Final Project Exploratory Analysis\n",
        "\n",
        "The objective of this notebook is to perform exploratory analysis on a dataset of cell images, some of which are malaria infected and some of whic are healthy, in order to create a model that can predict with high accuracy which is which. The research question to be answered is: \n",
        "\n",
        "1. Using only a photo of a blood cell, can I predict with a level of acccuracy equivalent to or higher than microscopy in a lab (97%), whether a Malaria infection is present? \n",
        "\n",
        "Plan of Action:\n",
        "\n",
        "- Prepare the data for analysis:\n",
        "    - Split data into train and validation groups\n",
        "    - format the data appropriately for a neural network by scaling and normalizing \n",
        "- Start by training a basic tensorflow model to classify the images\n",
        "- experiment with the model parameters, optimizer, and layers to identify the best fit\n",
        "- perform additional data augmentation in order to improve the accuracy of the model and reduce any overfitting\n",
        "\n",
        "Note: for the initial model I am using https://www.tensorflow.org/tutorials/images/classification as a guide\n",
        "\n",
        "and https://machinelearningmastery.com/grid-search-hyperparameters-deep-learning-models-python-keras/\n",
        "to guide the tuning process"
      ]
    },
    {
      "cell_type": "code",
      "metadata": {
        "colab": {
          "resources": {
            "http://localhost:8080/nbextensions/google.colab/files.js": {
              "data": "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",
              "ok": true,
              "headers": [
                [
                  "content-type",
                  "application/javascript"
                ]
              ],
              "status": 200,
              "status_text": ""
            }
          },
          "base_uri": "https://localhost:8080/",
          "height": 73
        },
        "id": "kcU2CZq0jgFj",
        "outputId": "d80378da-90f0-4024-d972-c8a2ca6bd5d9"
      },
      "source": [
        "from google.colab import files\n",
        "data_to_load = files.upload()"
      ],
      "execution_count": 1,
      "outputs": [
        {
          "output_type": "display_data",
          "data": {
            "text/html": [
              "\n",
              "     <input type=\"file\" id=\"files-8f08c46a-7944-4e61-9afa-86f61ae5ece6\" name=\"files[]\" multiple disabled\n",
              "        style=\"border:none\" />\n",
              "     <output id=\"result-8f08c46a-7944-4e61-9afa-86f61ae5ece6\">\n",
              "      Upload widget is only available when the cell has been executed in the\n",
              "      current browser session. Please rerun this cell to enable.\n",
              "      </output>\n",
              "      <script src=\"/nbextensions/google.colab/files.js\"></script> "
            ],
            "text/plain": [
              "<IPython.core.display.HTML object>"
            ]
          },
          "metadata": {
            "tags": []
          }
        },
        {
          "output_type": "stream",
          "text": [
            "Saving kaggle.json to kaggle (1).json\n"
          ],
          "name": "stdout"
        }
      ]
    },
    {
      "cell_type": "code",
      "metadata": {
        "id": "KWGXBR0bjgRX"
      },
      "source": [
        "!mkdir -p ~/.kaggle\n",
        "!cp kaggle.json ~/.kaggle/\n",
        "!chmod 600 ~/.kaggle/kaggle.json"
      ],
      "execution_count": 2,
      "outputs": []
    },
    {
      "cell_type": "code",
      "metadata": {
        "colab": {
          "base_uri": "https://localhost:8080/"
        },
        "id": "4xT5rlL2jqgL",
        "outputId": "80d68f71-99ab-43ce-aa7e-c310ade6f7a5"
      },
      "source": [
        "!kaggle datasets download -d syedamirraza/malaria-cell-image"
      ],
      "execution_count": 3,
      "outputs": [
        {
          "output_type": "stream",
          "text": [
            "malaria-cell-image.zip: Skipping, found more recently modified local copy (use --force to force download)\n"
          ],
          "name": "stdout"
        }
      ]
    },
    {
      "cell_type": "code",
      "metadata": {
        "id": "E53IQP1OjxgN"
      },
      "source": [
        "import zipfile\n",
        "zip_ref = zipfile.ZipFile('malaria-cell-image.zip', 'r')\n",
        "zip_ref.extractall('Cell_Images')\n",
        "zip_ref.close()"
      ],
      "execution_count": 4,
      "outputs": []
    },
    {
      "cell_type": "code",
      "metadata": {
        "id": "-cM1EbrJjdxB"
      },
      "source": [
        "#Import libraries\n",
        "import kaggle\n",
        "import matplotlib.pyplot as plt\n",
        "import numpy as np\n",
        "import os\n",
        "import PIL\n",
        "import tensorflow as tf\n",
        "import pathlib\n",
        "\n",
        "from tensorflow import keras\n",
        "from tensorflow.keras import layers\n",
        "from tensorflow.keras.models import Sequential"
      ],
      "execution_count": 5,
      "outputs": []
    },
    {
      "cell_type": "code",
      "metadata": {
        "id": "-Qtl-lEOkJZy"
      },
      "source": [
        "#Set my data directory *** Test data will only be used in the final report to evaluate my model\n",
        "train_data_dir = \"/content/Cell_Images/cell_images/train\"\n",
        "train_data_dir = pathlib.Path(train_data_dir)"
      ],
      "execution_count": 6,
      "outputs": []
    },
    {
      "cell_type": "code",
      "metadata": {
        "id": "ZLTrOOyQjdxB"
      },
      "source": [
        "#Set my data directory *** Test data will only be used in the final report to evaluate my model\n",
        "train_data_dir = \"C:/Users/15856/Data 602/FinalProject/Cell_Images/cell_images/train\"\n",
        "train_data_dir = pathlib.Path(train_data_dir)"
      ],
      "execution_count": 7,
      "outputs": []
    },
    {
      "cell_type": "code",
      "metadata": {
        "id": "T3qbo3gYjdxB"
      },
      "source": [
        "#I know from my data cleaning notebook that the data images are several different sizes, and so I will set a standard input size for them\n",
        "batch_size = 32\n",
        "img_height = 200\n",
        "img_width = 200"
      ],
      "execution_count": 7,
      "outputs": []
    },
    {
      "cell_type": "code",
      "metadata": {
        "colab": {
          "base_uri": "https://localhost:8080/"
        },
        "id": "ffm2WQh6jdxB",
        "outputId": "650cda27-6322-4366-fae8-6bc1cf61b86b"
      },
      "source": [
        "#creating my datasets, one for training and one for validation. I selected 10% of the images for my validation set\n",
        "\n",
        "train_ds = tf.keras.preprocessing.image_dataset_from_directory(\n",
        "  train_data_dir,\n",
        "  validation_split=0.1, #about 2000 images seems like a good validation set to me\n",
        "  subset=\"training\",\n",
        "  seed=1212020,\n",
        "  image_size=(img_height, img_width),\n",
        "  batch_size=batch_size)"
      ],
      "execution_count": 8,
      "outputs": [
        {
          "output_type": "stream",
          "text": [
            "Found 24958 files belonging to 2 classes.\n",
            "Using 22463 files for training.\n"
          ],
          "name": "stdout"
        }
      ]
    },
    {
      "cell_type": "code",
      "metadata": {
        "colab": {
          "base_uri": "https://localhost:8080/"
        },
        "id": "xQlY6YnqjdxC",
        "outputId": "c76aecf3-a4ec-4112-cafd-13611b84e071"
      },
      "source": [
        "val_ds = tf.keras.preprocessing.image_dataset_from_directory(\n",
        "  train_data_dir,\n",
        "  validation_split=0.1,\n",
        "  subset=\"validation\",\n",
        "  seed=1212020,\n",
        "  image_size=(img_height, img_width),\n",
        "  batch_size=batch_size)"
      ],
      "execution_count": 9,
      "outputs": [
        {
          "output_type": "stream",
          "text": [
            "Found 24958 files belonging to 2 classes.\n",
            "Using 2495 files for validation.\n"
          ],
          "name": "stdout"
        }
      ]
    },
    {
      "cell_type": "code",
      "metadata": {
        "colab": {
          "base_uri": "https://localhost:8080/"
        },
        "id": "19xNnU7njdxC",
        "outputId": "65162b06-13c7-4516-dcdb-449cdad454cb"
      },
      "source": [
        "class_names = train_ds.class_names\n",
        "print(class_names)"
      ],
      "execution_count": 10,
      "outputs": [
        {
          "output_type": "stream",
          "text": [
            "['parasitized', 'uninfected']\n"
          ],
          "name": "stdout"
        }
      ]
    },
    {
      "cell_type": "markdown",
      "metadata": {
        "id": "VCfTeMU2jdxC"
      },
      "source": [
        "## Feature Engineering"
      ]
    },
    {
      "cell_type": "code",
      "metadata": {
        "id": "blJ1FKZojdxC"
      },
      "source": [
        "# This stage of the data preparation, using AUTOTUNE, is for optimizing performance and allows the tf.data to tune the value dynamically\n",
        "#https://www.tensorflow.org/guide/data_performance\n",
        "# The cache function keeps the data in memory after the first epoch which presents bottlenecking during training\n",
        "#the prefectch function overlaps the data preproccessing with training the model\n",
        "\n",
        "AUTOTUNE = tf.data.experimental.AUTOTUNE\n",
        "\n",
        "train_ds = train_ds.cache().shuffle(1000).prefetch(buffer_size=AUTOTUNE)\n",
        "val_ds = val_ds.cache().prefetch(buffer_size=AUTOTUNE)"
      ],
      "execution_count": 11,
      "outputs": []
    },
    {
      "cell_type": "markdown",
      "metadata": {
        "id": "e4pH6EIjjdxC"
      },
      "source": [
        "## Model Training and Selection"
      ]
    },
    {
      "cell_type": "code",
      "metadata": {
        "id": "40bkaYhyjdxC"
      },
      "source": [
        "#Finally I will create my model. This is essentially based on the defaults in the tutorial I am using. I will experiment with other activation functions later on\n",
        "#Furthermore, I will keep many of the inputs, such as a 3x3 Kernel size based on research on the optimal settings https://towardsdatascience.com/deciding-optimal-filter-size-for-cnns-d6f7b56f9363\n",
        "num_classes = 2\n",
        "\n",
        "model = Sequential([\n",
        "  layers.experimental.preprocessing.Rescaling(1./255, input_shape=(img_height, img_width, 3)),\n",
        "  layers.Conv2D(16, 3, padding='same', activation='relu'),#2d convolutional layer over spacial images\n",
        "  layers.MaxPooling2D(),#max pooling layer for 2D spacial data\n",
        "  layers.Conv2D(32, 3, padding='same', activation='relu'),\n",
        "  layers.MaxPooling2D(),\n",
        "  layers.Conv2D(64, 3, padding='same', activation='relu'),\n",
        "  layers.MaxPooling2D(),\n",
        "  layers.Flatten(),\n",
        "  layers.Dense(128, activation='relu'),\n",
        "  layers.Dense(num_classes)\n",
        "])"
      ],
      "execution_count": 12,
      "outputs": []
    },
    {
      "cell_type": "code",
      "metadata": {
        "id": "qnxbRr9ijdxC"
      },
      "source": [
        "#again, based on defaults in the tutorial as well as standards for the field. Adam is the basic optimizer to use \n",
        "\n",
        "model.compile(optimizer='adam',\n",
        "              loss=tf.keras.losses.SparseCategoricalCrossentropy(from_logits=True),\n",
        "              metrics=['accuracy'])"
      ],
      "execution_count": 13,
      "outputs": []
    },
    {
      "cell_type": "code",
      "metadata": {
        "colab": {
          "base_uri": "https://localhost:8080/"
        },
        "id": "DL16wxYCjdxC",
        "outputId": "e4c4a151-7452-4117-ad9d-868c336f8495"
      },
      "source": [
        "#Review model before training\n",
        "model.summary()"
      ],
      "execution_count": 14,
      "outputs": [
        {
          "output_type": "stream",
          "text": [
            "Model: \"sequential\"\n",
            "_________________________________________________________________\n",
            "Layer (type)                 Output Shape              Param #   \n",
            "=================================================================\n",
            "rescaling (Rescaling)        (None, 200, 200, 3)       0         \n",
            "_________________________________________________________________\n",
            "conv2d (Conv2D)              (None, 200, 200, 16)      448       \n",
            "_________________________________________________________________\n",
            "max_pooling2d (MaxPooling2D) (None, 100, 100, 16)      0         \n",
            "_________________________________________________________________\n",
            "conv2d_1 (Conv2D)            (None, 100, 100, 32)      4640      \n",
            "_________________________________________________________________\n",
            "max_pooling2d_1 (MaxPooling2 (None, 50, 50, 32)        0         \n",
            "_________________________________________________________________\n",
            "conv2d_2 (Conv2D)            (None, 50, 50, 64)        18496     \n",
            "_________________________________________________________________\n",
            "max_pooling2d_2 (MaxPooling2 (None, 25, 25, 64)        0         \n",
            "_________________________________________________________________\n",
            "flatten (Flatten)            (None, 40000)             0         \n",
            "_________________________________________________________________\n",
            "dense (Dense)                (None, 128)               5120128   \n",
            "_________________________________________________________________\n",
            "dense_1 (Dense)              (None, 2)                 258       \n",
            "=================================================================\n",
            "Total params: 5,143,970\n",
            "Trainable params: 5,143,970\n",
            "Non-trainable params: 0\n",
            "_________________________________________________________________\n"
          ],
          "name": "stdout"
        }
      ]
    },
    {
      "cell_type": "code",
      "metadata": {
        "colab": {
          "base_uri": "https://localhost:8080/"
        },
        "id": "ZoEZqZhqjdxC",
        "outputId": "c10b84d8-0c71-429e-e859-2c16d8853162"
      },
      "source": [
        "#Train the model\n",
        "\n",
        "epochs=10 #I will start with 10 epochs and see how the accuracy looks\n",
        "history = model.fit(\n",
        "  train_ds,\n",
        "  validation_data=val_ds,\n",
        "  epochs=epochs\n",
        ")"
      ],
      "execution_count": 15,
      "outputs": [
        {
          "output_type": "stream",
          "text": [
            "Epoch 1/10\n",
            "702/702 [==============================] - 14s 20ms/step - loss: 0.3157 - accuracy: 0.8721 - val_loss: 0.1942 - val_accuracy: 0.9299\n",
            "Epoch 2/10\n",
            "702/702 [==============================] - 10s 15ms/step - loss: 0.1683 - accuracy: 0.9417 - val_loss: 0.1642 - val_accuracy: 0.9459\n",
            "Epoch 3/10\n",
            "702/702 [==============================] - 10s 15ms/step - loss: 0.1453 - accuracy: 0.9507 - val_loss: 0.1417 - val_accuracy: 0.9575\n",
            "Epoch 4/10\n",
            "702/702 [==============================] - 10s 15ms/step - loss: 0.1163 - accuracy: 0.9593 - val_loss: 0.1384 - val_accuracy: 0.9555\n",
            "Epoch 5/10\n",
            "702/702 [==============================] - 10s 15ms/step - loss: 0.0861 - accuracy: 0.9700 - val_loss: 0.1477 - val_accuracy: 0.9571\n",
            "Epoch 6/10\n",
            "702/702 [==============================] - 10s 15ms/step - loss: 0.0596 - accuracy: 0.9779 - val_loss: 0.1544 - val_accuracy: 0.9555\n",
            "Epoch 7/10\n",
            "702/702 [==============================] - 10s 15ms/step - loss: 0.0372 - accuracy: 0.9861 - val_loss: 0.2509 - val_accuracy: 0.9479\n",
            "Epoch 8/10\n",
            "702/702 [==============================] - 10s 15ms/step - loss: 0.0278 - accuracy: 0.9906 - val_loss: 0.2871 - val_accuracy: 0.9487\n",
            "Epoch 9/10\n",
            "702/702 [==============================] - 10s 15ms/step - loss: 0.0176 - accuracy: 0.9938 - val_loss: 0.3173 - val_accuracy: 0.9503\n",
            "Epoch 10/10\n",
            "702/702 [==============================] - 10s 15ms/step - loss: 0.0087 - accuracy: 0.9972 - val_loss: 0.3655 - val_accuracy: 0.9559\n"
          ],
          "name": "stdout"
        }
      ]
    },
    {
      "cell_type": "markdown",
      "metadata": {
        "id": "uJl8LLtpjdxC"
      },
      "source": [
        "Some observations, the model clearly started overfitting around epoc 5 when the validation accuracy started to decrease, giving a maximum accuracy of around 96%, less than our target."
      ]
    },
    {
      "cell_type": "code",
      "metadata": {
        "colab": {
          "base_uri": "https://localhost:8080/",
          "height": 499
        },
        "id": "wF1VavLzjdxC",
        "outputId": "dd9095ae-29c4-414e-d15c-6f11911b8bc7"
      },
      "source": [
        "acc = history.history['accuracy']\n",
        "val_acc = history.history['val_accuracy']\n",
        "\n",
        "loss = history.history['loss']\n",
        "val_loss = history.history['val_loss']\n",
        "\n",
        "epochs_range = range(epochs)\n",
        "\n",
        "plt.figure(figsize=(8, 8))\n",
        "plt.subplot(1, 2, 1)\n",
        "plt.plot(epochs_range, acc, label='Training Accuracy')\n",
        "plt.plot(epochs_range, val_acc, label='Validation Accuracy')\n",
        "plt.legend(loc='lower right')\n",
        "plt.title('Training and Validation Accuracy')\n",
        "\n",
        "plt.subplot(1, 2, 2)\n",
        "plt.plot(epochs_range, loss, label='Training Loss')\n",
        "plt.plot(epochs_range, val_loss, label='Validation Loss')\n",
        "plt.legend(loc='upper right')\n",
        "plt.title('Training and Validation Loss')\n",
        "plt.show()"
      ],
      "execution_count": 16,
      "outputs": [
        {
          "output_type": "display_data",
          "data": {
            "image/png": "[encoded data removed]",
            "text/plain": [
              "<Figure size 576x576 with 2 Axes>"
            ]
          },
          "metadata": {
            "tags": [],
            "needs_background": "light"
          }
        }
      ]
    },
    {
      "cell_type": "markdown",
      "metadata": {
        "id": "2uGXcalxjdxD"
      },
      "source": [
        "To help improve the overfitting, I will add some preproccessing layers to augment the data, specifically rotating, zooming in on, and flipping images."
      ]
    },
    {
      "cell_type": "markdown",
      "metadata": {
        "id": "XiOBt4mIjdxD"
      },
      "source": [
        "#https://www.tensorflow.org/api_docs/python/tf/keras/layers/experimental/preprocessing/PreprocessingLayer\n",
        "data_augmentation = keras.Sequential(\n",
        "  [\n",
        "    layers.experimental.preprocessing.RandomFlip(\"horizontal\", \n",
        "                                                 input_shape=(img_height, \n",
        "                                                              img_width,\n",
        "                                                              3)),\n",
        "    layers.experimental.preprocessing.RandomRotation(0.1),\n",
        "    layers.experimental.preprocessing.RandomZoom(0.1),\n",
        "  ]\n",
        ")"
      ]
    },
    {
      "cell_type": "code",
      "metadata": {
        "id": "JULB7CpXjdxD"
      },
      "source": [
        "#Made a change to the random flip function, so that it flips vertically and horizontally, creating greater diversity\n",
        "#This made some improvement on the accuracy\n",
        "data_augmentation = keras.Sequential(\n",
        "  [\n",
        "    layers.experimental.preprocessing.RandomFlip(input_shape=(img_height, \n",
        "                                                              img_width,\n",
        "                                                              3)),\n",
        "    layers.experimental.preprocessing.RandomRotation(0.1),\n",
        "    layers.experimental.preprocessing.RandomZoom(0.1),\n",
        "  ]\n",
        ")"
      ],
      "execution_count": 17,
      "outputs": []
    },
    {
      "cell_type": "code",
      "metadata": {
        "colab": {
          "base_uri": "https://localhost:8080/",
          "height": 575
        },
        "id": "auc70xspjdxD",
        "outputId": "9d493474-9db1-488e-c4ed-63e74fb707f3"
      },
      "source": [
        "plt.figure(figsize=(10, 10))\n",
        "for images, _ in train_ds.take(1):\n",
        "  for i in range(9):\n",
        "    augmented_images = data_augmentation(images)\n",
        "    ax = plt.subplot(3, 3, i + 1)\n",
        "    plt.imshow(augmented_images[0].numpy().astype(\"uint8\"))\n",
        "    plt.axis(\"off\")"
      ],
      "execution_count": 18,
      "outputs": [
        {
          "output_type": "display_data",
          "data": {
            "image/png": "[encoded data removed]",
            "text/plain": [
              "<Figure size 720x720 with 9 Axes>"
            ]
          },
          "metadata": {
            "tags": [],
            "needs_background": "light"
          }
        }
      ]
    },
    {
      "cell_type": "code",
      "metadata": {
        "id": "tUEPeAoFjdxD"
      },
      "source": [
        "model = Sequential([\n",
        "  data_augmentation,#my additional data augmentation layer\n",
        "  layers.experimental.preprocessing.Rescaling(1./255),\n",
        "  layers.Conv2D(16, 3, padding='same', activation='relu'),\n",
        "  layers.MaxPooling2D(),\n",
        "  layers.Conv2D(32, 3, padding='same', activation='relu'),\n",
        "  layers.MaxPooling2D(),\n",
        "  layers.Conv2D(64, 3, padding='same', activation='relu'),\n",
        "  layers.MaxPooling2D(),\n",
        "  layers.Dropout(0.2),#This layer helps to avoid overfitting by randomly setting input units to zero at a rate of 20%\n",
        "  layers.Flatten(),\n",
        "  layers.Dense(128, activation='relu'),\n",
        "  layers.Dense(num_classes)\n",
        "])"
      ],
      "execution_count": 19,
      "outputs": []
    },
    {
      "cell_type": "code",
      "metadata": {
        "id": "w41hjfzPjdxD"
      },
      "source": [
        "model.compile(optimizer='adam',\n",
        "              loss=tf.keras.losses.SparseCategoricalCrossentropy(from_logits=True),\n",
        "              metrics=['accuracy'])"
      ],
      "execution_count": 20,
      "outputs": []
    },
    {
      "cell_type": "code",
      "metadata": {
        "colab": {
          "base_uri": "https://localhost:8080/"
        },
        "id": "CRlnbBt2jdxD",
        "outputId": "5e10432b-a60e-4038-fc7d-50b75ac7d91b"
      },
      "source": [
        "model.summary()"
      ],
      "execution_count": 21,
      "outputs": [
        {
          "output_type": "stream",
          "text": [
            "Model: \"sequential_2\"\n",
            "_________________________________________________________________\n",
            "Layer (type)                 Output Shape              Param #   \n",
            "=================================================================\n",
            "sequential_1 (Sequential)    (None, 200, 200, 3)       0         \n",
            "_________________________________________________________________\n",
            "rescaling_1 (Rescaling)      (None, 200, 200, 3)       0         \n",
            "_________________________________________________________________\n",
            "conv2d_3 (Conv2D)            (None, 200, 200, 16)      448       \n",
            "_________________________________________________________________\n",
            "max_pooling2d_3 (MaxPooling2 (None, 100, 100, 16)      0         \n",
            "_________________________________________________________________\n",
            "conv2d_4 (Conv2D)            (None, 100, 100, 32)      4640      \n",
            "_________________________________________________________________\n",
            "max_pooling2d_4 (MaxPooling2 (None, 50, 50, 32)        0         \n",
            "_________________________________________________________________\n",
            "conv2d_5 (Conv2D)            (None, 50, 50, 64)        18496     \n",
            "_________________________________________________________________\n",
            "max_pooling2d_5 (MaxPooling2 (None, 25, 25, 64)        0         \n",
            "_________________________________________________________________\n",
            "dropout (Dropout)            (None, 25, 25, 64)        0         \n",
            "_________________________________________________________________\n",
            "flatten_1 (Flatten)          (None, 40000)             0         \n",
            "_________________________________________________________________\n",
            "dense_2 (Dense)              (None, 128)               5120128   \n",
            "_________________________________________________________________\n",
            "dense_3 (Dense)              (None, 2)                 258       \n",
            "=================================================================\n",
            "Total params: 5,143,970\n",
            "Trainable params: 5,143,970\n",
            "Non-trainable params: 0\n",
            "_________________________________________________________________\n"
          ],
          "name": "stdout"
        }
      ]
    },
    {
      "cell_type": "code",
      "metadata": {
        "colab": {
          "base_uri": "https://localhost:8080/"
        },
        "id": "dUoOSGCwjdxD",
        "outputId": "ceeaf9d6-f654-47b2-cc05-70e2e5bc7db4"
      },
      "source": [
        "epochs = 10\n",
        "history = model.fit(\n",
        "  train_ds,\n",
        "  validation_data=val_ds,\n",
        "  epochs=epochs\n",
        ")"
      ],
      "execution_count": 22,
      "outputs": [
        {
          "output_type": "stream",
          "text": [
            "Epoch 1/10\n",
            "702/702 [==============================] - 14s 20ms/step - loss: 0.5385 - accuracy: 0.7086 - val_loss: 0.2076 - val_accuracy: 0.9275\n",
            "Epoch 2/10\n",
            "702/702 [==============================] - 14s 19ms/step - loss: 0.1958 - accuracy: 0.9317 - val_loss: 0.1593 - val_accuracy: 0.9515\n",
            "Epoch 3/10\n",
            "702/702 [==============================] - 14s 19ms/step - loss: 0.1719 - accuracy: 0.9434 - val_loss: 0.1564 - val_accuracy: 0.9483\n",
            "Epoch 4/10\n",
            "702/702 [==============================] - 14s 20ms/step - loss: 0.1601 - accuracy: 0.9504 - val_loss: 0.1299 - val_accuracy: 0.9591\n",
            "Epoch 5/10\n",
            "702/702 [==============================] - 14s 19ms/step - loss: 0.1492 - accuracy: 0.9500 - val_loss: 0.1325 - val_accuracy: 0.9595\n",
            "Epoch 6/10\n",
            "702/702 [==============================] - 14s 19ms/step - loss: 0.1450 - accuracy: 0.9544 - val_loss: 0.1363 - val_accuracy: 0.9623\n",
            "Epoch 7/10\n",
            "702/702 [==============================] - 14s 19ms/step - loss: 0.1440 - accuracy: 0.9535 - val_loss: 0.1364 - val_accuracy: 0.9603\n",
            "Epoch 8/10\n",
            "702/702 [==============================] - 14s 19ms/step - loss: 0.1431 - accuracy: 0.9551 - val_loss: 0.1123 - val_accuracy: 0.9655\n",
            "Epoch 9/10\n",
            "702/702 [==============================] - 14s 19ms/step - loss: 0.1401 - accuracy: 0.9553 - val_loss: 0.1145 - val_accuracy: 0.9639\n",
            "Epoch 10/10\n",
            "702/702 [==============================] - 14s 19ms/step - loss: 0.1357 - accuracy: 0.9567 - val_loss: 0.1248 - val_accuracy: 0.9635\n"
          ],
          "name": "stdout"
        }
      ]
    },
    {
      "cell_type": "markdown",
      "metadata": {
        "id": "hmGQGSUSjdxD"
      },
      "source": [
        "Here my final accuracy has improved, but is still lower than my 97% target. I will therefore try a few different methods to improve the accuracy"
      ]
    },
    {
      "cell_type": "code",
      "metadata": {
        "id": "Ckl-3fwVjdxD"
      },
      "source": [
        "#first, I will try with valid padding, then I will try adding a leakyrelu activation function\n",
        "\n",
        "model = Sequential([\n",
        "  data_augmentation,#my additional data augmentation layer\n",
        "  layers.experimental.preprocessing.Rescaling(1./255),\n",
        "  layers.Conv2D(16, 3, padding='valid', activation='relu'),\n",
        "  layers.MaxPooling2D(),\n",
        "  layers.Conv2D(32, 3, padding='valid', activation='relu'),\n",
        "  layers.MaxPooling2D(),\n",
        "  layers.Conv2D(64, 3, padding='valid', activation='relu'),\n",
        "  layers.MaxPooling2D(),\n",
        "  layers.Dropout(0.2),\n",
        "  layers.Flatten(),\n",
        "  layers.Dense(128, activation='relu'),\n",
        "  layers.Dense(num_classes)\n",
        "])"
      ],
      "execution_count": 23,
      "outputs": []
    },
    {
      "cell_type": "code",
      "metadata": {
        "id": "QKsNyD6MjdxD"
      },
      "source": [
        "model.compile(optimizer='adam',\n",
        "              loss=tf.keras.losses.SparseCategoricalCrossentropy(from_logits=True),\n",
        "              metrics=['accuracy'])"
      ],
      "execution_count": 24,
      "outputs": []
    },
    {
      "cell_type": "code",
      "metadata": {
        "colab": {
          "base_uri": "https://localhost:8080/"
        },
        "id": "xDIE5etAjdxD",
        "outputId": "a2b452e1-dcf5-4f19-da9d-e80804269a58"
      },
      "source": [
        "epochs = 10\n",
        "history = model.fit(\n",
        "  train_ds,\n",
        "  validation_data=val_ds,\n",
        "  epochs=epochs\n",
        ")"
      ],
      "execution_count": 25,
      "outputs": [
        {
          "output_type": "stream",
          "text": [
            "Epoch 1/10\n",
            "702/702 [==============================] - 13s 19ms/step - loss: 0.4548 - accuracy: 0.7626 - val_loss: 0.2951 - val_accuracy: 0.9038\n",
            "Epoch 2/10\n",
            "702/702 [==============================] - 13s 19ms/step - loss: 0.2009 - accuracy: 0.9342 - val_loss: 0.1789 - val_accuracy: 0.9395\n",
            "Epoch 3/10\n",
            "702/702 [==============================] - 13s 19ms/step - loss: 0.1834 - accuracy: 0.9399 - val_loss: 0.1546 - val_accuracy: 0.9503\n",
            "Epoch 4/10\n",
            "702/702 [==============================] - 13s 19ms/step - loss: 0.1698 - accuracy: 0.9462 - val_loss: 0.1493 - val_accuracy: 0.9551\n",
            "Epoch 5/10\n",
            "702/702 [==============================] - 13s 19ms/step - loss: 0.1561 - accuracy: 0.9497 - val_loss: 0.1424 - val_accuracy: 0.9587\n",
            "Epoch 6/10\n",
            "702/702 [==============================] - 13s 19ms/step - loss: 0.1451 - accuracy: 0.9537 - val_loss: 0.1273 - val_accuracy: 0.9623\n",
            "Epoch 7/10\n",
            "702/702 [==============================] - 13s 19ms/step - loss: 0.1413 - accuracy: 0.9541 - val_loss: 0.1241 - val_accuracy: 0.9635\n",
            "Epoch 8/10\n",
            "702/702 [==============================] - 13s 19ms/step - loss: 0.1379 - accuracy: 0.9561 - val_loss: 0.1230 - val_accuracy: 0.9643\n",
            "Epoch 9/10\n",
            "702/702 [==============================] - 13s 19ms/step - loss: 0.1392 - accuracy: 0.9549 - val_loss: 0.1469 - val_accuracy: 0.9595\n",
            "Epoch 10/10\n",
            "702/702 [==============================] - 13s 19ms/step - loss: 0.1318 - accuracy: 0.9575 - val_loss: 0.1211 - val_accuracy: 0.9635\n"
          ],
          "name": "stdout"
        }
      ]
    },
    {
      "cell_type": "markdown",
      "metadata": {
        "id": "zajgkfeKjdxD"
      },
      "source": [
        "The final accuracy was moderately improved. I will now try using the swish activation function"
      ]
    },
    {
      "cell_type": "code",
      "metadata": {
        "colab": {
          "base_uri": "https://localhost:8080/"
        },
        "id": "BaPK2gTVjdxD",
        "outputId": "bab56b43-caaa-4c5f-d6ed-61df7f8eec35"
      },
      "source": [
        "!pip install keras"
      ],
      "execution_count": 26,
      "outputs": [
        {
          "output_type": "stream",
          "text": [
            "Requirement already satisfied: keras in /usr/local/lib/python3.6/dist-packages (2.4.3)\n",
            "Requirement already satisfied: scipy>=0.14 in /usr/local/lib/python3.6/dist-packages (from keras) (1.4.1)\n",
            "Requirement already satisfied: h5py in /usr/local/lib/python3.6/dist-packages (from keras) (2.10.0)\n",
            "Requirement already satisfied: numpy>=1.9.1 in /usr/local/lib/python3.6/dist-packages (from keras) (1.18.5)\n",
            "Requirement already satisfied: pyyaml in /usr/local/lib/python3.6/dist-packages (from keras) (3.13)\n",
            "Requirement already satisfied: six in /usr/local/lib/python3.6/dist-packages (from h5py->keras) (1.15.0)\n"
          ],
          "name": "stdout"
        }
      ]
    },
    {
      "cell_type": "code",
      "metadata": {
        "id": "szILRSYUjdxD"
      },
      "source": [
        "#Next I wanted to try the swish activation, implemented below\n",
        "#https://www.bignerdranch.com/blog/implementing-swish-activation-function-in-keras/\n",
        "import keras\n",
        "from keras.backend import sigmoid\n",
        "def swish(x, beta = 1):\n",
        "    return (x * sigmoid(beta * x))\n",
        "from keras.utils.generic_utils import get_custom_objects\n",
        "from keras.layers import Activation\n",
        "get_custom_objects().update({'swish': Activation(swish)})"
      ],
      "execution_count": 27,
      "outputs": []
    },
    {
      "cell_type": "code",
      "metadata": {
        "id": "JitFClZ9jdxD"
      },
      "source": [
        "# I will try adding a swish activation function, created by google, it has been shown to perform better than relu, and then I will test leaky relu to se which is optimal\n",
        "#https://missinglink.ai/guides/neural-network-concepts/7-types-neural-network-activation-functions-right/\n",
        "\n",
        "model = Sequential([\n",
        "  data_augmentation,\n",
        "  layers.experimental.preprocessing.Rescaling(1./255),\n",
        "  layers.Conv2D(16, 3, padding='valid', activation='swish'),\n",
        "  layers.MaxPooling2D(),\n",
        "  layers.Conv2D(32, 3, padding='valid', activation='swish'),\n",
        "  layers.MaxPooling2D(),\n",
        "  layers.Conv2D(64, 3, padding='valid', activation='swish'),\n",
        "  layers.MaxPooling2D(),\n",
        "  layers.Dropout(0.2),\n",
        "  layers.Flatten(),\n",
        "  layers.Dense(128, activation='swish'),\n",
        "  layers.Dense(num_classes)\n",
        "])"
      ],
      "execution_count": 28,
      "outputs": []
    },
    {
      "cell_type": "code",
      "metadata": {
        "id": "fmWToFpyjdxD"
      },
      "source": [
        "model.compile(optimizer='adam',\n",
        "              loss=tf.keras.losses.SparseCategoricalCrossentropy(from_logits=True),\n",
        "              metrics=['accuracy'])"
      ],
      "execution_count": 29,
      "outputs": []
    },
    {
      "cell_type": "code",
      "metadata": {
        "colab": {
          "base_uri": "https://localhost:8080/"
        },
        "id": "UIbvPITajdxD",
        "outputId": "7acc6187-7039-4acb-83ca-a0dca04e9c9c"
      },
      "source": [
        "epochs = 10\n",
        "history = model.fit(\n",
        "  train_ds,\n",
        "  validation_data=val_ds,\n",
        "  epochs=epochs\n",
        ")"
      ],
      "execution_count": 30,
      "outputs": [
        {
          "output_type": "stream",
          "text": [
            "Epoch 1/10\n",
            "702/702 [==============================] - 18s 25ms/step - loss: 0.6310 - accuracy: 0.6442 - val_loss: 0.5486 - val_accuracy: 0.7090\n",
            "Epoch 2/10\n",
            "702/702 [==============================] - 18s 25ms/step - loss: 0.3269 - accuracy: 0.8699 - val_loss: 0.1821 - val_accuracy: 0.9327\n",
            "Epoch 3/10\n",
            "702/702 [==============================] - 18s 25ms/step - loss: 0.2114 - accuracy: 0.9250 - val_loss: 0.1702 - val_accuracy: 0.9383\n",
            "Epoch 4/10\n",
            "702/702 [==============================] - 18s 25ms/step - loss: 0.1848 - accuracy: 0.9350 - val_loss: 0.1549 - val_accuracy: 0.9479\n",
            "Epoch 5/10\n",
            "702/702 [==============================] - 18s 25ms/step - loss: 0.1805 - accuracy: 0.9413 - val_loss: 0.1466 - val_accuracy: 0.9583\n",
            "Epoch 6/10\n",
            "702/702 [==============================] - 18s 25ms/step - loss: 0.1695 - accuracy: 0.9440 - val_loss: 0.1620 - val_accuracy: 0.9547\n",
            "Epoch 7/10\n",
            "702/702 [==============================] - 18s 25ms/step - loss: 0.1659 - accuracy: 0.9461 - val_loss: 0.1492 - val_accuracy: 0.9587\n",
            "Epoch 8/10\n",
            "702/702 [==============================] - 18s 25ms/step - loss: 0.1638 - accuracy: 0.9476 - val_loss: 0.1291 - val_accuracy: 0.9587\n",
            "Epoch 9/10\n",
            "702/702 [==============================] - 18s 25ms/step - loss: 0.1593 - accuracy: 0.9488 - val_loss: 0.1323 - val_accuracy: 0.9615\n",
            "Epoch 10/10\n",
            "702/702 [==============================] - 18s 25ms/step - loss: 0.1571 - accuracy: 0.9487 - val_loss: 0.1420 - val_accuracy: 0.9567\n"
          ],
          "name": "stdout"
        }
      ]
    },
    {
      "cell_type": "markdown",
      "metadata": {
        "id": "5HctiuOijdxD"
      },
      "source": [
        "This did not really change performance. I will next attempt using the leaky relu layer in the model"
      ]
    },
    {
      "cell_type": "code",
      "metadata": {
        "id": "4oRlqgkAjdxD"
      },
      "source": [
        "#https://www.tensorflow.org/api_docs/python/tf/keras/layers/LeakyReLU\n",
        "model = Sequential([\n",
        "  data_augmentation,\n",
        "  layers.experimental.preprocessing.Rescaling(1./255),\n",
        "  layers.Conv2D(16, 3, padding='valid'),\n",
        "  layers.LeakyReLU(),\n",
        "  layers.MaxPooling2D(),\n",
        "  layers.Conv2D(32, 3, padding='valid'),\n",
        "  layers.LeakyReLU(),\n",
        "  layers.MaxPooling2D(),\n",
        "  layers.Conv2D(64, 3, padding='valid'),\n",
        "  layers.LeakyReLU(),\n",
        "  layers.MaxPooling2D(),\n",
        "  layers.Dropout(0.2),\n",
        "  layers.Flatten(),\n",
        "  layers.Dense(128, activation='relu'),\n",
        "  layers.Dense(num_classes)\n",
        "])"
      ],
      "execution_count": 31,
      "outputs": []
    },
    {
      "cell_type": "code",
      "metadata": {
        "id": "AilcSl48jdxD"
      },
      "source": [
        "model.compile(optimizer='adam',\n",
        "              loss=tf.keras.losses.SparseCategoricalCrossentropy(from_logits=True),\n",
        "              metrics=['accuracy'])"
      ],
      "execution_count": 32,
      "outputs": []
    },
    {
      "cell_type": "code",
      "metadata": {
        "colab": {
          "base_uri": "https://localhost:8080/"
        },
        "id": "wD5UGIq5jdxD",
        "outputId": "e747785c-3880-4153-dc67-88f27532430c"
      },
      "source": [
        "epochs = 10\n",
        "history = model.fit(\n",
        "  train_ds,\n",
        "  validation_data=val_ds,\n",
        "  epochs=epochs\n",
        ")"
      ],
      "execution_count": 33,
      "outputs": [
        {
          "output_type": "stream",
          "text": [
            "Epoch 1/10\n",
            "702/702 [==============================] - 17s 24ms/step - loss: 0.4303 - accuracy: 0.7957 - val_loss: 0.1865 - val_accuracy: 0.9339\n",
            "Epoch 2/10\n",
            "702/702 [==============================] - 17s 24ms/step - loss: 0.2223 - accuracy: 0.9278 - val_loss: 0.1665 - val_accuracy: 0.9479\n",
            "Epoch 3/10\n",
            "702/702 [==============================] - 17s 24ms/step - loss: 0.1879 - accuracy: 0.9414 - val_loss: 0.1765 - val_accuracy: 0.9395\n",
            "Epoch 4/10\n",
            "702/702 [==============================] - 17s 24ms/step - loss: 0.1754 - accuracy: 0.9459 - val_loss: 0.1708 - val_accuracy: 0.9515\n",
            "Epoch 5/10\n",
            "702/702 [==============================] - 17s 24ms/step - loss: 0.1583 - accuracy: 0.9499 - val_loss: 0.1318 - val_accuracy: 0.9591\n",
            "Epoch 6/10\n",
            "702/702 [==============================] - 17s 24ms/step - loss: 0.1585 - accuracy: 0.9507 - val_loss: 0.1243 - val_accuracy: 0.9603\n",
            "Epoch 7/10\n",
            "702/702 [==============================] - 17s 24ms/step - loss: 0.1531 - accuracy: 0.9516 - val_loss: 0.1466 - val_accuracy: 0.9631\n",
            "Epoch 8/10\n",
            "702/702 [==============================] - 17s 24ms/step - loss: 0.1475 - accuracy: 0.9529 - val_loss: 0.1351 - val_accuracy: 0.9563\n",
            "Epoch 9/10\n",
            "702/702 [==============================] - 17s 24ms/step - loss: 0.1449 - accuracy: 0.9545 - val_loss: 0.1385 - val_accuracy: 0.9647\n",
            "Epoch 10/10\n",
            "702/702 [==============================] - 17s 24ms/step - loss: 0.1475 - accuracy: 0.9529 - val_loss: 0.1597 - val_accuracy: 0.9647\n"
          ],
          "name": "stdout"
        }
      ]
    },
    {
      "cell_type": "markdown",
      "metadata": {
        "id": "8PfKLJU6jdxD"
      },
      "source": [
        "This actually decreased accuracy, I will therefore return to using the relu activation function.\n",
        "\n",
        "for my next step, I want to see if adding a layer improves output."
      ]
    },
    {
      "cell_type": "code",
      "metadata": {
        "id": "hz6-KyuUjdxD"
      },
      "source": [
        "model = Sequential([\n",
        "  data_augmentation,#my additional data augmentation layer\n",
        "  layers.experimental.preprocessing.Rescaling(1./255),\n",
        "  layers.Conv2D(16, 3, padding='valid', activation='relu'),\n",
        "  layers.MaxPooling2D(),\n",
        "  layers.Conv2D(32, 3, padding='valid', activation='relu'),\n",
        "  layers.MaxPooling2D(),\n",
        "  layers.Conv2D(64, 3, padding='valid', activation='relu'),\n",
        "  layers.MaxPooling2D(),\n",
        "  layers.Conv2D(128, 3, padding='valid', activation='relu'),\n",
        "  layers.MaxPooling2D(),\n",
        "  layers.Dropout(.2),\n",
        "  layers.Flatten(),\n",
        "  layers.Dense(128, activation='relu'),\n",
        "  layers.Dense(num_classes)\n",
        "])"
      ],
      "execution_count": 34,
      "outputs": []
    },
    {
      "cell_type": "code",
      "metadata": {
        "id": "ZlGLNAD-jdxD"
      },
      "source": [
        "model.compile(optimizer='adam',\n",
        "              loss=tf.keras.losses.SparseCategoricalCrossentropy(from_logits=True),\n",
        "              metrics=['accuracy'])"
      ],
      "execution_count": 35,
      "outputs": []
    },
    {
      "cell_type": "code",
      "metadata": {
        "colab": {
          "base_uri": "https://localhost:8080/"
        },
        "id": "s-9p7BzojdxD",
        "outputId": "6e3ea6c5-74bb-45eb-f3fc-1ebbf8d8ab33"
      },
      "source": [
        "epochs = 10\n",
        "history = model.fit(\n",
        "  train_ds,\n",
        "  validation_data=val_ds,\n",
        "  epochs=epochs\n",
        ")"
      ],
      "execution_count": 36,
      "outputs": [
        {
          "output_type": "stream",
          "text": [
            "Epoch 1/10\n",
            "702/702 [==============================] - 14s 19ms/step - loss: 0.3921 - accuracy: 0.8019 - val_loss: 0.1523 - val_accuracy: 0.9567\n",
            "Epoch 2/10\n",
            "702/702 [==============================] - 14s 19ms/step - loss: 0.1697 - accuracy: 0.9478 - val_loss: 0.1216 - val_accuracy: 0.9607\n",
            "Epoch 3/10\n",
            "702/702 [==============================] - 13s 19ms/step - loss: 0.1545 - accuracy: 0.9509 - val_loss: 0.1345 - val_accuracy: 0.9623\n",
            "Epoch 4/10\n",
            "702/702 [==============================] - 14s 20ms/step - loss: 0.1440 - accuracy: 0.9528 - val_loss: 0.1164 - val_accuracy: 0.9627\n",
            "Epoch 5/10\n",
            "702/702 [==============================] - 13s 19ms/step - loss: 0.1442 - accuracy: 0.9537 - val_loss: 0.1217 - val_accuracy: 0.9591\n",
            "Epoch 6/10\n",
            "702/702 [==============================] - 13s 19ms/step - loss: 0.1373 - accuracy: 0.9550 - val_loss: 0.1163 - val_accuracy: 0.9643\n",
            "Epoch 7/10\n",
            "702/702 [==============================] - 14s 19ms/step - loss: 0.1343 - accuracy: 0.9562 - val_loss: 0.1256 - val_accuracy: 0.9615\n",
            "Epoch 8/10\n",
            "702/702 [==============================] - 13s 19ms/step - loss: 0.1340 - accuracy: 0.9569 - val_loss: 0.1044 - val_accuracy: 0.9659\n",
            "Epoch 9/10\n",
            "702/702 [==============================] - 13s 19ms/step - loss: 0.1312 - accuracy: 0.9573 - val_loss: 0.1085 - val_accuracy: 0.9651\n",
            "Epoch 10/10\n",
            "702/702 [==============================] - 13s 19ms/step - loss: 0.1270 - accuracy: 0.9574 - val_loss: 0.1139 - val_accuracy: 0.9631\n"
          ],
          "name": "stdout"
        }
      ]
    },
    {
      "cell_type": "markdown",
      "metadata": {
        "id": "qfzhewvJjdxD"
      },
      "source": [
        "This did lead to better performance. I will therefore keep the extra layer in my final model. \n",
        "\n",
        "My next step will be to test other optimizers. Based on the recommendations out there: https://towardsdatascience.com/7-tips-to-choose-the-best-optimizer-47bb9c1219e ; https://www.tensorflow.org/api_docs/python/tf/keras/optimizers\n",
        "it seems like Adam is the best of the adaptive optimizers, while SGD (stochastic gradient decent) despite generally being less effective, is still able, in some cases to produce strong results. I will also try Nadam, which incorporates Nesterov Momentum into the adam algorithm (http://cs229.stanford.edu/proj2015/054_report.pdf) and Adamax which is similar to Adam and is therefore worth comparing.\n",
        "\n",
        "In addition to the optimizers, I used tensorboard to evaluate different dropout rates and the final number of units in the dense layer. \n",
        "\n",
        "Note: I used Tensorboard in Google Colab to compare these models directly, but you can also see them written out below"
      ]
    },
    {
      "cell_type": "code",
      "metadata": {
        "id": "ojEuT1XJjdxD"
      },
      "source": [
        "model = Sequential([\n",
        "  data_augmentation,#my additional data augmentation layer\n",
        "  layers.experimental.preprocessing.Rescaling(1./255),\n",
        "  layers.Conv2D(16, 3, padding='valid', activation='relu'),\n",
        "  layers.MaxPooling2D(),\n",
        "  layers.Conv2D(32, 3, padding='valid', activation='relu'),\n",
        "  layers.MaxPooling2D(),\n",
        "  layers.Conv2D(64, 3, padding='valid', activation='relu'),\n",
        "  layers.MaxPooling2D(),\n",
        "  layers.Conv2D(128, 3, padding='valid', activation='relu'),\n",
        "  layers.MaxPooling2D(),\n",
        "  layers.Dropout(.2),\n",
        "  layers.Flatten(),\n",
        "  layers.Dense(128, activation='relu'),\n",
        "  layers.Dense(num_classes)\n",
        "])"
      ],
      "execution_count": 37,
      "outputs": []
    },
    {
      "cell_type": "code",
      "metadata": {
        "id": "Afx650FMjdxD"
      },
      "source": [
        "#https://www.tensorflow.org/api_docs/python/tf/keras/optimizers\n",
        "model.compile(optimizer='Nadam',\n",
        "              loss=tf.keras.losses.SparseCategoricalCrossentropy(from_logits=True),\n",
        "              metrics=['accuracy'])"
      ],
      "execution_count": 38,
      "outputs": []
    },
    {
      "cell_type": "code",
      "metadata": {
        "colab": {
          "base_uri": "https://localhost:8080/"
        },
        "id": "1necCYpSjdxE",
        "outputId": "85b7a881-e325-4001-a0da-86d023e9670f"
      },
      "source": [
        "epochs = 10\n",
        "history = model.fit(\n",
        "  train_ds,\n",
        "  validation_data=val_ds,\n",
        "  epochs=epochs\n",
        ")"
      ],
      "execution_count": 39,
      "outputs": [
        {
          "output_type": "stream",
          "text": [
            "Epoch 1/10\n",
            "702/702 [==============================] - 14s 21ms/step - loss: 0.3456 - accuracy: 0.8356 - val_loss: 0.1655 - val_accuracy: 0.9575\n",
            "Epoch 2/10\n",
            "702/702 [==============================] - 14s 20ms/step - loss: 0.1596 - accuracy: 0.9509 - val_loss: 0.1339 - val_accuracy: 0.9583\n",
            "Epoch 3/10\n",
            "702/702 [==============================] - 14s 20ms/step - loss: 0.1523 - accuracy: 0.9521 - val_loss: 0.1242 - val_accuracy: 0.9615\n",
            "Epoch 4/10\n",
            "702/702 [==============================] - 14s 20ms/step - loss: 0.1399 - accuracy: 0.9533 - val_loss: 0.1227 - val_accuracy: 0.9631\n",
            "Epoch 5/10\n",
            "702/702 [==============================] - 14s 20ms/step - loss: 0.1374 - accuracy: 0.9543 - val_loss: 0.1267 - val_accuracy: 0.9611\n",
            "Epoch 6/10\n",
            "702/702 [==============================] - 14s 20ms/step - loss: 0.1340 - accuracy: 0.9559 - val_loss: 0.1114 - val_accuracy: 0.9623\n",
            "Epoch 7/10\n",
            "702/702 [==============================] - 14s 20ms/step - loss: 0.1296 - accuracy: 0.9576 - val_loss: 0.1078 - val_accuracy: 0.9655\n",
            "Epoch 8/10\n",
            "702/702 [==============================] - 14s 20ms/step - loss: 0.1304 - accuracy: 0.9568 - val_loss: 0.1185 - val_accuracy: 0.9635\n",
            "Epoch 9/10\n",
            "702/702 [==============================] - 14s 20ms/step - loss: 0.1260 - accuracy: 0.9579 - val_loss: 0.1078 - val_accuracy: 0.9659\n",
            "Epoch 10/10\n",
            "702/702 [==============================] - 14s 20ms/step - loss: 0.1235 - accuracy: 0.9578 - val_loss: 0.1153 - val_accuracy: 0.9663\n"
          ],
          "name": "stdout"
        }
      ]
    },
    {
      "cell_type": "code",
      "metadata": {
        "id": "R5NSBOEujdxE"
      },
      "source": [
        "model = Sequential([\n",
        "  data_augmentation,#my additional data augmentation layer\n",
        "  layers.experimental.preprocessing.Rescaling(1./255),\n",
        "  layers.Conv2D(16, 3, padding='valid', activation='relu'),\n",
        "  layers.MaxPooling2D(),\n",
        "  layers.Conv2D(32, 3, padding='valid', activation='relu'),\n",
        "  layers.MaxPooling2D(),\n",
        "  layers.Conv2D(64, 3, padding='valid', activation='relu'),\n",
        "  layers.MaxPooling2D(),\n",
        "  layers.Conv2D(128, 3, padding='valid', activation='relu'),\n",
        "  layers.MaxPooling2D(),\n",
        "  layers.Dropout(.2),\n",
        "  layers.Flatten(),\n",
        "  layers.Dense(128, activation='relu'),\n",
        "  layers.Dense(num_classes)\n",
        "])"
      ],
      "execution_count": 40,
      "outputs": []
    },
    {
      "cell_type": "code",
      "metadata": {
        "id": "RXKjqXTijdxE"
      },
      "source": [
        "model.compile(optimizer='SGD',\n",
        "              loss=tf.keras.losses.SparseCategoricalCrossentropy(from_logits=True),\n",
        "              metrics=['accuracy'])"
      ],
      "execution_count": 41,
      "outputs": []
    },
    {
      "cell_type": "code",
      "metadata": {
        "colab": {
          "base_uri": "https://localhost:8080/"
        },
        "id": "OrN8aXvAjdxE",
        "outputId": "ffa0f488-6d0f-48a2-d5bd-3862ea1b7acc"
      },
      "source": [
        "epochs = 10\n",
        "history = model.fit(\n",
        "  train_ds,\n",
        "  validation_data=val_ds,\n",
        "  epochs=epochs\n",
        ")"
      ],
      "execution_count": 42,
      "outputs": [
        {
          "output_type": "stream",
          "text": [
            "Epoch 1/10\n",
            "702/702 [==============================] - 14s 19ms/step - loss: 0.6506 - accuracy: 0.6204 - val_loss: 0.6469 - val_accuracy: 0.6685\n",
            "Epoch 2/10\n",
            "702/702 [==============================] - 13s 19ms/step - loss: 0.3994 - accuracy: 0.8347 - val_loss: 0.1964 - val_accuracy: 0.9375\n",
            "Epoch 3/10\n",
            "702/702 [==============================] - 13s 19ms/step - loss: 0.2239 - accuracy: 0.9208 - val_loss: 0.2162 - val_accuracy: 0.9194\n",
            "Epoch 4/10\n",
            "702/702 [==============================] - 13s 19ms/step - loss: 0.2024 - accuracy: 0.9316 - val_loss: 0.1658 - val_accuracy: 0.9451\n",
            "Epoch 5/10\n",
            "702/702 [==============================] - 13s 19ms/step - loss: 0.1918 - accuracy: 0.9367 - val_loss: 0.1576 - val_accuracy: 0.9539\n",
            "Epoch 6/10\n",
            "702/702 [==============================] - 14s 19ms/step - loss: 0.1873 - accuracy: 0.9387 - val_loss: 0.1723 - val_accuracy: 0.9395\n",
            "Epoch 7/10\n",
            "702/702 [==============================] - 13s 19ms/step - loss: 0.1780 - accuracy: 0.9426 - val_loss: 0.1507 - val_accuracy: 0.9563\n",
            "Epoch 8/10\n",
            "702/702 [==============================] - 13s 19ms/step - loss: 0.1755 - accuracy: 0.9448 - val_loss: 0.1513 - val_accuracy: 0.9567\n",
            "Epoch 9/10\n",
            "702/702 [==============================] - 13s 19ms/step - loss: 0.1721 - accuracy: 0.9458 - val_loss: 0.1491 - val_accuracy: 0.9595\n",
            "Epoch 10/10\n",
            "702/702 [==============================] - 13s 19ms/step - loss: 0.1673 - accuracy: 0.9472 - val_loss: 0.1434 - val_accuracy: 0.9603\n"
          ],
          "name": "stdout"
        }
      ]
    },
    {
      "cell_type": "code",
      "metadata": {
        "id": "fyk5DnScjdxE"
      },
      "source": [
        "model = Sequential([\n",
        "  data_augmentation,#my additional data augmentation layer\n",
        "  layers.experimental.preprocessing.Rescaling(1./255),\n",
        "  layers.Conv2D(16, 3, padding='valid', activation='relu'),\n",
        "  layers.MaxPooling2D(),\n",
        "  layers.Conv2D(32, 3, padding='valid', activation='relu'),\n",
        "  layers.MaxPooling2D(),\n",
        "  layers.Conv2D(64, 3, padding='valid', activation='relu'),\n",
        "  layers.MaxPooling2D(),\n",
        "  layers.Conv2D(128, 3, padding='valid', activation='relu'),\n",
        "  layers.MaxPooling2D(),\n",
        "  layers.Dropout(.2),\n",
        "  layers.Flatten(),\n",
        "  layers.Dense(128, activation='relu'),\n",
        "  layers.Dense(num_classes)\n",
        "])"
      ],
      "execution_count": 43,
      "outputs": []
    },
    {
      "cell_type": "code",
      "metadata": {
        "id": "8XuugmQSjdxE"
      },
      "source": [
        "model.compile(optimizer='Adamax',\n",
        "              loss=tf.keras.losses.SparseCategoricalCrossentropy(from_logits=True),\n",
        "              metrics=['accuracy'])"
      ],
      "execution_count": 44,
      "outputs": []
    },
    {
      "cell_type": "code",
      "metadata": {
        "colab": {
          "base_uri": "https://localhost:8080/"
        },
        "id": "NB1d8kO-jdxE",
        "outputId": "5a44810b-b08a-4913-8f6b-580212a2d14f"
      },
      "source": [
        "epochs = 10\n",
        "history = model.fit(\n",
        "  train_ds,\n",
        "  validation_data=val_ds,\n",
        "  epochs=epochs\n",
        ")"
      ],
      "execution_count": 45,
      "outputs": [
        {
          "output_type": "stream",
          "text": [
            "Epoch 1/10\n",
            "702/702 [==============================] - 14s 20ms/step - loss: 0.3564 - accuracy: 0.8269 - val_loss: 0.1744 - val_accuracy: 0.9467\n",
            "Epoch 2/10\n",
            "702/702 [==============================] - 14s 19ms/step - loss: 0.1873 - accuracy: 0.9340 - val_loss: 0.1543 - val_accuracy: 0.9579\n",
            "Epoch 3/10\n",
            "702/702 [==============================] - 14s 19ms/step - loss: 0.1719 - accuracy: 0.9446 - val_loss: 0.1370 - val_accuracy: 0.9623\n",
            "Epoch 4/10\n",
            "702/702 [==============================] - 14s 19ms/step - loss: 0.1566 - accuracy: 0.9491 - val_loss: 0.1298 - val_accuracy: 0.9599\n",
            "Epoch 5/10\n",
            "702/702 [==============================] - 14s 19ms/step - loss: 0.1502 - accuracy: 0.9505 - val_loss: 0.1307 - val_accuracy: 0.9571\n",
            "Epoch 6/10\n",
            "702/702 [==============================] - 14s 19ms/step - loss: 0.1402 - accuracy: 0.9527 - val_loss: 0.1261 - val_accuracy: 0.9631\n",
            "Epoch 7/10\n",
            "702/702 [==============================] - 14s 19ms/step - loss: 0.1382 - accuracy: 0.9530 - val_loss: 0.1153 - val_accuracy: 0.9635\n",
            "Epoch 8/10\n",
            "702/702 [==============================] - 14s 19ms/step - loss: 0.1352 - accuracy: 0.9535 - val_loss: 0.1147 - val_accuracy: 0.9643\n",
            "Epoch 9/10\n",
            "702/702 [==============================] - 14s 19ms/step - loss: 0.1318 - accuracy: 0.9549 - val_loss: 0.1107 - val_accuracy: 0.9627\n",
            "Epoch 10/10\n",
            "702/702 [==============================] - 14s 20ms/step - loss: 0.1277 - accuracy: 0.9574 - val_loss: 0.1159 - val_accuracy: 0.9615\n"
          ],
          "name": "stdout"
        }
      ]
    },
    {
      "cell_type": "markdown",
      "metadata": {
        "id": "izEUb5e0jdxE"
      },
      "source": [
        "Next I will test across different units (between 128 and 256) for the dense layer. I will then test the outputs with a dropout rate of .1"
      ]
    },
    {
      "cell_type": "code",
      "metadata": {
        "id": "Z-bA9W8DjdxE"
      },
      "source": [
        "model = Sequential([\n",
        "  data_augmentation,#my additional data augmentation layer\n",
        "  layers.experimental.preprocessing.Rescaling(1./255),\n",
        "  layers.Conv2D(16, 3, padding='valid', activation='relu'),\n",
        "  layers.MaxPooling2D(),\n",
        "  layers.Conv2D(32, 3, padding='valid', activation='relu'),\n",
        "  layers.MaxPooling2D(),\n",
        "  layers.Conv2D(64, 3, padding='valid', activation='relu'),\n",
        "  layers.MaxPooling2D(),\n",
        "  layers.Conv2D(128, 3, padding='valid', activation='relu'),\n",
        "  layers.MaxPooling2D(),\n",
        "  layers.Dropout(.2),\n",
        "  layers.Flatten(),\n",
        "  layers.Dense(256, activation='relu'),\n",
        "  layers.Dense(num_classes)\n",
        "])"
      ],
      "execution_count": 46,
      "outputs": []
    },
    {
      "cell_type": "code",
      "metadata": {
        "id": "UKhlLrVGjdxE"
      },
      "source": [
        "model.compile(optimizer='adam',\n",
        "              loss=tf.keras.losses.SparseCategoricalCrossentropy(from_logits=True),\n",
        "              metrics=['accuracy'])"
      ],
      "execution_count": 47,
      "outputs": []
    },
    {
      "cell_type": "code",
      "metadata": {
        "colab": {
          "base_uri": "https://localhost:8080/"
        },
        "id": "nwLCGd2hjdxE",
        "outputId": "5b873a44-1bc7-4f33-cc34-e7e926489d11"
      },
      "source": [
        "epochs = 10\n",
        "history = model.fit(\n",
        "  train_ds,\n",
        "  validation_data=val_ds,\n",
        "  epochs=epochs\n",
        ")"
      ],
      "execution_count": 48,
      "outputs": [
        {
          "output_type": "stream",
          "text": [
            "Epoch 1/10\n",
            "702/702 [==============================] - 14s 20ms/step - loss: 0.3174 - accuracy: 0.8598 - val_loss: 0.1653 - val_accuracy: 0.9499\n",
            "Epoch 2/10\n",
            "702/702 [==============================] - 14s 19ms/step - loss: 0.1652 - accuracy: 0.9488 - val_loss: 0.1354 - val_accuracy: 0.9579\n",
            "Epoch 3/10\n",
            "702/702 [==============================] - 14s 19ms/step - loss: 0.1534 - accuracy: 0.9508 - val_loss: 0.1210 - val_accuracy: 0.9611\n",
            "Epoch 4/10\n",
            "702/702 [==============================] - 14s 19ms/step - loss: 0.1491 - accuracy: 0.9516 - val_loss: 0.1251 - val_accuracy: 0.9615\n",
            "Epoch 5/10\n",
            "702/702 [==============================] - 14s 19ms/step - loss: 0.1430 - accuracy: 0.9517 - val_loss: 0.1141 - val_accuracy: 0.9663\n",
            "Epoch 6/10\n",
            "702/702 [==============================] - 14s 19ms/step - loss: 0.1389 - accuracy: 0.9554 - val_loss: 0.1153 - val_accuracy: 0.9635\n",
            "Epoch 7/10\n",
            "702/702 [==============================] - 14s 19ms/step - loss: 0.1375 - accuracy: 0.9552 - val_loss: 0.1147 - val_accuracy: 0.9635\n",
            "Epoch 8/10\n",
            "702/702 [==============================] - 14s 19ms/step - loss: 0.1345 - accuracy: 0.9546 - val_loss: 0.1201 - val_accuracy: 0.9627\n",
            "Epoch 9/10\n",
            "702/702 [==============================] - 14s 20ms/step - loss: 0.1351 - accuracy: 0.9550 - val_loss: 0.1118 - val_accuracy: 0.9639\n",
            "Epoch 10/10\n",
            "702/702 [==============================] - 14s 19ms/step - loss: 0.1299 - accuracy: 0.9567 - val_loss: 0.1188 - val_accuracy: 0.9663\n"
          ],
          "name": "stdout"
        }
      ]
    },
    {
      "cell_type": "code",
      "metadata": {
        "id": "LY6u-7FujdxE"
      },
      "source": [
        "model = Sequential([\n",
        "  data_augmentation,#my additional data augmentation layer\n",
        "  layers.experimental.preprocessing.Rescaling(1./255),\n",
        "  layers.Conv2D(16, 3, padding='valid', activation='relu'),\n",
        "  layers.MaxPooling2D(),\n",
        "  layers.Conv2D(32, 3, padding='valid', activation='relu'),\n",
        "  layers.MaxPooling2D(),\n",
        "  layers.Conv2D(64, 3, padding='valid', activation='relu'),\n",
        "  layers.MaxPooling2D(),\n",
        "  layers.Conv2D(128, 3, padding='valid', activation='relu'),\n",
        "  layers.MaxPooling2D(),\n",
        "  layers.Dropout(.2),\n",
        "  layers.Flatten(),\n",
        "  layers.Dense(256, activation='relu'),\n",
        "  layers.Dense(num_classes)\n",
        "])"
      ],
      "execution_count": 49,
      "outputs": []
    },
    {
      "cell_type": "code",
      "metadata": {
        "id": "o7egZY8UjdxE"
      },
      "source": [
        "model.compile(optimizer='SGD',\n",
        "              loss=tf.keras.losses.SparseCategoricalCrossentropy(from_logits=True),\n",
        "              metrics=['accuracy'])"
      ],
      "execution_count": 50,
      "outputs": []
    },
    {
      "cell_type": "code",
      "metadata": {
        "colab": {
          "base_uri": "https://localhost:8080/"
        },
        "id": "2HtID-hpjdxE",
        "outputId": "be6e24f8-5837-474a-e2fa-f68a059eb1f0"
      },
      "source": [
        "epochs = 10\n",
        "history = model.fit(\n",
        "  train_ds,\n",
        "  validation_data=val_ds,\n",
        "  epochs=epochs\n",
        ")"
      ],
      "execution_count": 51,
      "outputs": [
        {
          "output_type": "stream",
          "text": [
            "Epoch 1/10\n",
            "702/702 [==============================] - 14s 19ms/step - loss: 0.6800 - accuracy: 0.5660 - val_loss: 0.6580 - val_accuracy: 0.5940\n",
            "Epoch 2/10\n",
            "702/702 [==============================] - 13s 19ms/step - loss: 0.6207 - accuracy: 0.6628 - val_loss: 0.4979 - val_accuracy: 0.7804\n",
            "Epoch 3/10\n",
            "702/702 [==============================] - 13s 19ms/step - loss: 0.3468 - accuracy: 0.8602 - val_loss: 0.2668 - val_accuracy: 0.9327\n",
            "Epoch 4/10\n",
            "702/702 [==============================] - 13s 19ms/step - loss: 0.2380 - accuracy: 0.9188 - val_loss: 0.1971 - val_accuracy: 0.9343\n",
            "Epoch 5/10\n",
            "702/702 [==============================] - 13s 19ms/step - loss: 0.2154 - accuracy: 0.9282 - val_loss: 0.1748 - val_accuracy: 0.9479\n",
            "Epoch 6/10\n",
            "702/702 [==============================] - 13s 19ms/step - loss: 0.1978 - accuracy: 0.9340 - val_loss: 0.1577 - val_accuracy: 0.9523\n",
            "Epoch 7/10\n",
            "702/702 [==============================] - 13s 19ms/step - loss: 0.1914 - accuracy: 0.9379 - val_loss: 0.1524 - val_accuracy: 0.9503\n",
            "Epoch 8/10\n",
            "702/702 [==============================] - 13s 19ms/step - loss: 0.1827 - accuracy: 0.9414 - val_loss: 0.1687 - val_accuracy: 0.9499\n",
            "Epoch 9/10\n",
            "702/702 [==============================] - 13s 19ms/step - loss: 0.1777 - accuracy: 0.9433 - val_loss: 0.1547 - val_accuracy: 0.9539\n",
            "Epoch 10/10\n",
            "702/702 [==============================] - 13s 19ms/step - loss: 0.1762 - accuracy: 0.9440 - val_loss: 0.1494 - val_accuracy: 0.9587\n"
          ],
          "name": "stdout"
        }
      ]
    },
    {
      "cell_type": "code",
      "metadata": {
        "id": "XKKuQcitjdxE"
      },
      "source": [
        "model = Sequential([\n",
        "  data_augmentation,#my additional data augmentation layer\n",
        "  layers.experimental.preprocessing.Rescaling(1./255),\n",
        "  layers.Conv2D(16, 3, padding='valid', activation='relu'),\n",
        "  layers.MaxPooling2D(),\n",
        "  layers.Conv2D(32, 3, padding='valid', activation='relu'),\n",
        "  layers.MaxPooling2D(),\n",
        "  layers.Conv2D(64, 3, padding='valid', activation='relu'),\n",
        "  layers.MaxPooling2D(),\n",
        "  layers.Conv2D(128, 3, padding='valid', activation='relu'),\n",
        "  layers.MaxPooling2D(),\n",
        "  layers.Dropout(.2),\n",
        "  layers.Flatten(),\n",
        "  layers.Dense(256, activation='relu'),\n",
        "  layers.Dense(num_classes)\n",
        "])"
      ],
      "execution_count": 52,
      "outputs": []
    },
    {
      "cell_type": "code",
      "metadata": {
        "id": "HI1lA1rHjdxE"
      },
      "source": [
        "model.compile(optimizer='Nadam',\n",
        "              loss=tf.keras.losses.SparseCategoricalCrossentropy(from_logits=True),\n",
        "              metrics=['accuracy'])"
      ],
      "execution_count": 53,
      "outputs": []
    },
    {
      "cell_type": "code",
      "metadata": {
        "colab": {
          "base_uri": "https://localhost:8080/"
        },
        "id": "ushA1MgRjdxE",
        "outputId": "b23a3c91-51c3-4979-b139-5ea19a93c5ee"
      },
      "source": [
        "epochs = 10\n",
        "history = model.fit(\n",
        "  train_ds,\n",
        "  validation_data=val_ds,\n",
        "  epochs=epochs\n",
        ")"
      ],
      "execution_count": 54,
      "outputs": [
        {
          "output_type": "stream",
          "text": [
            "Epoch 1/10\n",
            "702/702 [==============================] - 15s 21ms/step - loss: 0.5116 - accuracy: 0.7062 - val_loss: 0.1497 - val_accuracy: 0.9519\n",
            "Epoch 2/10\n",
            "702/702 [==============================] - 15s 21ms/step - loss: 0.1669 - accuracy: 0.9481 - val_loss: 0.1260 - val_accuracy: 0.9631\n",
            "Epoch 3/10\n",
            "702/702 [==============================] - 15s 21ms/step - loss: 0.1479 - accuracy: 0.9522 - val_loss: 0.1323 - val_accuracy: 0.9603\n",
            "Epoch 4/10\n",
            "702/702 [==============================] - 15s 21ms/step - loss: 0.1420 - accuracy: 0.9536 - val_loss: 0.1223 - val_accuracy: 0.9619\n",
            "Epoch 5/10\n",
            "702/702 [==============================] - 15s 21ms/step - loss: 0.1374 - accuracy: 0.9540 - val_loss: 0.1274 - val_accuracy: 0.9615\n",
            "Epoch 6/10\n",
            "702/702 [==============================] - 15s 21ms/step - loss: 0.1345 - accuracy: 0.9553 - val_loss: 0.1119 - val_accuracy: 0.9627\n",
            "Epoch 7/10\n",
            "702/702 [==============================] - 15s 21ms/step - loss: 0.1310 - accuracy: 0.9558 - val_loss: 0.1204 - val_accuracy: 0.9595\n",
            "Epoch 8/10\n",
            "702/702 [==============================] - 15s 21ms/step - loss: 0.1292 - accuracy: 0.9566 - val_loss: 0.1100 - val_accuracy: 0.9643\n",
            "Epoch 9/10\n",
            "702/702 [==============================] - 15s 21ms/step - loss: 0.1278 - accuracy: 0.9575 - val_loss: 0.1116 - val_accuracy: 0.9631\n",
            "Epoch 10/10\n",
            "702/702 [==============================] - 15s 21ms/step - loss: 0.1251 - accuracy: 0.9578 - val_loss: 0.1103 - val_accuracy: 0.9635\n"
          ],
          "name": "stdout"
        }
      ]
    },
    {
      "cell_type": "code",
      "metadata": {
        "id": "YfsNnElOjdxE"
      },
      "source": [
        "model = Sequential([\n",
        "  data_augmentation,#my additional data augmentation layer\n",
        "  layers.experimental.preprocessing.Rescaling(1./255),\n",
        "  layers.Conv2D(16, 3, padding='valid', activation='relu'),\n",
        "  layers.MaxPooling2D(),\n",
        "  layers.Conv2D(32, 3, padding='valid', activation='relu'),\n",
        "  layers.MaxPooling2D(),\n",
        "  layers.Conv2D(64, 3, padding='valid', activation='relu'),\n",
        "  layers.MaxPooling2D(),\n",
        "  layers.Conv2D(128, 3, padding='valid', activation='relu'),\n",
        "  layers.MaxPooling2D(),\n",
        "  layers.Dropout(.2),\n",
        "  layers.Flatten(),\n",
        "  layers.Dense(256, activation='relu'),\n",
        "  layers.Dense(num_classes)\n",
        "])"
      ],
      "execution_count": 55,
      "outputs": []
    },
    {
      "cell_type": "code",
      "metadata": {
        "id": "cAhpzEojjdxE"
      },
      "source": [
        "model.compile(optimizer='Adamax',\n",
        "              loss=tf.keras.losses.SparseCategoricalCrossentropy(from_logits=True),\n",
        "              metrics=['accuracy'])"
      ],
      "execution_count": 56,
      "outputs": []
    },
    {
      "cell_type": "code",
      "metadata": {
        "colab": {
          "base_uri": "https://localhost:8080/"
        },
        "id": "6gV7wOgljdxE",
        "outputId": "1afcd3dd-eb3a-4958-eee9-1a6edc0dc1d8"
      },
      "source": [
        "epochs = 10\n",
        "history = model.fit(\n",
        "  train_ds,\n",
        "  validation_data=val_ds,\n",
        "  epochs=epochs\n",
        ")"
      ],
      "execution_count": 57,
      "outputs": [
        {
          "output_type": "stream",
          "text": [
            "Epoch 1/10\n",
            "702/702 [==============================] - 14s 20ms/step - loss: 0.3575 - accuracy: 0.8353 - val_loss: 0.1834 - val_accuracy: 0.9387\n",
            "Epoch 2/10\n",
            "702/702 [==============================] - 14s 20ms/step - loss: 0.1889 - accuracy: 0.9383 - val_loss: 0.1568 - val_accuracy: 0.9507\n",
            "Epoch 3/10\n",
            "702/702 [==============================] - 14s 20ms/step - loss: 0.1707 - accuracy: 0.9463 - val_loss: 0.1402 - val_accuracy: 0.9623\n",
            "Epoch 4/10\n",
            "702/702 [==============================] - 14s 20ms/step - loss: 0.1604 - accuracy: 0.9482 - val_loss: 0.1292 - val_accuracy: 0.9619\n",
            "Epoch 5/10\n",
            "702/702 [==============================] - 14s 20ms/step - loss: 0.1504 - accuracy: 0.9510 - val_loss: 0.1284 - val_accuracy: 0.9591\n",
            "Epoch 6/10\n",
            "702/702 [==============================] - 14s 20ms/step - loss: 0.1434 - accuracy: 0.9542 - val_loss: 0.1288 - val_accuracy: 0.9587\n",
            "Epoch 7/10\n",
            "702/702 [==============================] - 14s 20ms/step - loss: 0.1390 - accuracy: 0.9542 - val_loss: 0.1130 - val_accuracy: 0.9655\n",
            "Epoch 8/10\n",
            "702/702 [==============================] - 14s 20ms/step - loss: 0.1361 - accuracy: 0.9537 - val_loss: 0.1178 - val_accuracy: 0.9639\n",
            "Epoch 9/10\n",
            "702/702 [==============================] - 14s 20ms/step - loss: 0.1326 - accuracy: 0.9549 - val_loss: 0.1115 - val_accuracy: 0.9627\n",
            "Epoch 10/10\n",
            "702/702 [==============================] - 14s 20ms/step - loss: 0.1274 - accuracy: 0.9564 - val_loss: 0.1018 - val_accuracy: 0.9675\n"
          ],
          "name": "stdout"
        }
      ]
    },
    {
      "cell_type": "markdown",
      "metadata": {
        "id": "slnnrc4ljdxE"
      },
      "source": [
        "Result\n",
        "\n",
        "Finally I will test with a dropout rate of 10%"
      ]
    },
    {
      "cell_type": "code",
      "metadata": {
        "id": "w_tjdxp9jdxE"
      },
      "source": [
        "model = Sequential([\n",
        "  data_augmentation,#my additional data augmentation layer\n",
        "  layers.experimental.preprocessing.Rescaling(1./255),\n",
        "  layers.Conv2D(16, 3, padding='valid', activation='relu'),\n",
        "  layers.MaxPooling2D(),\n",
        "  layers.Conv2D(32, 3, padding='valid', activation='relu'),\n",
        "  layers.MaxPooling2D(),\n",
        "  layers.Conv2D(64, 3, padding='valid', activation='relu'),\n",
        "  layers.MaxPooling2D(),\n",
        "  layers.Conv2D(128, 3, padding='valid', activation='relu'),\n",
        "  layers.MaxPooling2D(),\n",
        "  layers.Dropout(.1),\n",
        "  layers.Flatten(),\n",
        "  layers.Dense(128, activation='relu'),\n",
        "  layers.Dense(num_classes)\n",
        "])"
      ],
      "execution_count": 58,
      "outputs": []
    },
    {
      "cell_type": "code",
      "metadata": {
        "id": "G30FWG1RjdxE"
      },
      "source": [
        "model.compile(optimizer='adam',\n",
        "              loss=tf.keras.losses.SparseCategoricalCrossentropy(from_logits=True),\n",
        "              metrics=['accuracy'])"
      ],
      "execution_count": 59,
      "outputs": []
    },
    {
      "cell_type": "code",
      "metadata": {
        "colab": {
          "base_uri": "https://localhost:8080/"
        },
        "id": "Lfdu3lpUjdxE",
        "outputId": "f3b1ffc1-5885-4f28-e3ee-acb5f8b9ee24"
      },
      "source": [
        "epochs = 10\n",
        "history = model.fit(\n",
        "  train_ds,\n",
        "  validation_data=val_ds,\n",
        "  epochs=epochs\n",
        ")"
      ],
      "execution_count": 60,
      "outputs": [
        {
          "output_type": "stream",
          "text": [
            "Epoch 1/10\n",
            "702/702 [==============================] - 14s 19ms/step - loss: 0.3639 - accuracy: 0.8245 - val_loss: 0.1454 - val_accuracy: 0.9591\n",
            "Epoch 2/10\n",
            "702/702 [==============================] - 13s 19ms/step - loss: 0.1672 - accuracy: 0.9486 - val_loss: 0.1311 - val_accuracy: 0.9595\n",
            "Epoch 3/10\n",
            "702/702 [==============================] - 14s 19ms/step - loss: 0.1516 - accuracy: 0.9534 - val_loss: 0.1305 - val_accuracy: 0.9599\n",
            "Epoch 4/10\n",
            "702/702 [==============================] - 14s 19ms/step - loss: 0.1459 - accuracy: 0.9533 - val_loss: 0.1138 - val_accuracy: 0.9659\n",
            "Epoch 5/10\n",
            "702/702 [==============================] - 13s 19ms/step - loss: 0.1381 - accuracy: 0.9557 - val_loss: 0.1124 - val_accuracy: 0.9639\n",
            "Epoch 6/10\n",
            "702/702 [==============================] - 14s 19ms/step - loss: 0.1356 - accuracy: 0.9552 - val_loss: 0.1053 - val_accuracy: 0.9663\n",
            "Epoch 7/10\n",
            "702/702 [==============================] - 13s 19ms/step - loss: 0.1352 - accuracy: 0.9562 - val_loss: 0.1072 - val_accuracy: 0.9639\n",
            "Epoch 8/10\n",
            "702/702 [==============================] - 13s 19ms/step - loss: 0.1305 - accuracy: 0.9570 - val_loss: 0.1205 - val_accuracy: 0.9611\n",
            "Epoch 9/10\n",
            "702/702 [==============================] - 13s 19ms/step - loss: 0.1264 - accuracy: 0.9575 - val_loss: 0.0982 - val_accuracy: 0.9675\n",
            "Epoch 10/10\n",
            "702/702 [==============================] - 13s 19ms/step - loss: 0.1289 - accuracy: 0.9574 - val_loss: 0.1058 - val_accuracy: 0.9663\n"
          ],
          "name": "stdout"
        }
      ]
    },
    {
      "cell_type": "code",
      "metadata": {
        "id": "f0DJp72NjdxE"
      },
      "source": [
        "model = Sequential([\n",
        "  data_augmentation,#my additional data augmentation layer\n",
        "  layers.experimental.preprocessing.Rescaling(1./255),\n",
        "  layers.Conv2D(16, 3, padding='valid', activation='relu'),\n",
        "  layers.MaxPooling2D(),\n",
        "  layers.Conv2D(32, 3, padding='valid', activation='relu'),\n",
        "  layers.MaxPooling2D(),\n",
        "  layers.Conv2D(64, 3, padding='valid', activation='relu'),\n",
        "  layers.MaxPooling2D(),\n",
        "  layers.Conv2D(128, 3, padding='valid', activation='relu'),\n",
        "  layers.MaxPooling2D(),\n",
        "  layers.Dropout(.1),\n",
        "  layers.Flatten(),\n",
        "  layers.Dense(128, activation='relu'),\n",
        "  layers.Dense(num_classes)\n",
        "])"
      ],
      "execution_count": 61,
      "outputs": []
    },
    {
      "cell_type": "code",
      "metadata": {
        "id": "qVtxa2ldjdxE"
      },
      "source": [
        "model.compile(optimizer='SGD',\n",
        "              loss=tf.keras.losses.SparseCategoricalCrossentropy(from_logits=True),\n",
        "              metrics=['accuracy'])"
      ],
      "execution_count": 62,
      "outputs": []
    },
    {
      "cell_type": "code",
      "metadata": {
        "colab": {
          "base_uri": "https://localhost:8080/"
        },
        "id": "lbzDIcdGjdxE",
        "outputId": "c62d902b-eefc-47cf-d85a-0546a159a120"
      },
      "source": [
        "epochs = 10\n",
        "history = model.fit(\n",
        "  train_ds,\n",
        "  validation_data=val_ds,\n",
        "  epochs=epochs\n",
        ")"
      ],
      "execution_count": 63,
      "outputs": [
        {
          "output_type": "stream",
          "text": [
            "Epoch 1/10\n",
            "702/702 [==============================] - 14s 19ms/step - loss: 0.6805 - accuracy: 0.5667 - val_loss: 0.6529 - val_accuracy: 0.6349\n",
            "Epoch 2/10\n",
            "702/702 [==============================] - 13s 19ms/step - loss: 0.6320 - accuracy: 0.6500 - val_loss: 0.5326 - val_accuracy: 0.7543\n",
            "Epoch 3/10\n",
            "702/702 [==============================] - 14s 20ms/step - loss: 0.3812 - accuracy: 0.8356 - val_loss: 0.1978 - val_accuracy: 0.9275\n",
            "Epoch 4/10\n",
            "702/702 [==============================] - 13s 19ms/step - loss: 0.2350 - accuracy: 0.9187 - val_loss: 0.1784 - val_accuracy: 0.9399\n",
            "Epoch 5/10\n",
            "702/702 [==============================] - 13s 19ms/step - loss: 0.2084 - accuracy: 0.9318 - val_loss: 0.1618 - val_accuracy: 0.9535\n",
            "Epoch 6/10\n",
            "702/702 [==============================] - 13s 19ms/step - loss: 0.1948 - accuracy: 0.9387 - val_loss: 0.1643 - val_accuracy: 0.9495\n",
            "Epoch 7/10\n",
            "702/702 [==============================] - 13s 19ms/step - loss: 0.1844 - accuracy: 0.9428 - val_loss: 0.1531 - val_accuracy: 0.9555\n",
            "Epoch 8/10\n",
            "702/702 [==============================] - 13s 19ms/step - loss: 0.1776 - accuracy: 0.9432 - val_loss: 0.1500 - val_accuracy: 0.9563\n",
            "Epoch 9/10\n",
            "702/702 [==============================] - 13s 19ms/step - loss: 0.1716 - accuracy: 0.9472 - val_loss: 0.1461 - val_accuracy: 0.9575\n",
            "Epoch 10/10\n",
            "702/702 [==============================] - 13s 19ms/step - loss: 0.1706 - accuracy: 0.9477 - val_loss: 0.1427 - val_accuracy: 0.9583\n"
          ],
          "name": "stdout"
        }
      ]
    },
    {
      "cell_type": "code",
      "metadata": {
        "id": "bbg9txBgjdxE"
      },
      "source": [
        "model = Sequential([\n",
        "  data_augmentation,#my additional data augmentation layer\n",
        "  layers.experimental.preprocessing.Rescaling(1./255),\n",
        "  layers.Conv2D(16, 3, padding='valid', activation='relu'),\n",
        "  layers.MaxPooling2D(),\n",
        "  layers.Conv2D(32, 3, padding='valid', activation='relu'),\n",
        "  layers.MaxPooling2D(),\n",
        "  layers.Conv2D(64, 3, padding='valid', activation='relu'),\n",
        "  layers.MaxPooling2D(),\n",
        "  layers.Conv2D(128, 3, padding='valid', activation='relu'),\n",
        "  layers.MaxPooling2D(),\n",
        "  layers.Dropout(.1),\n",
        "  layers.Flatten(),\n",
        "  layers.Dense(128, activation='relu'),\n",
        "  layers.Dense(num_classes)\n",
        "])"
      ],
      "execution_count": 64,
      "outputs": []
    },
    {
      "cell_type": "code",
      "metadata": {
        "id": "yH7vH9ckjdxE"
      },
      "source": [
        "model.compile(optimizer='Nadam',\n",
        "              loss=tf.keras.losses.SparseCategoricalCrossentropy(from_logits=True),\n",
        "              metrics=['accuracy'])"
      ],
      "execution_count": 65,
      "outputs": []
    },
    {
      "cell_type": "code",
      "metadata": {
        "colab": {
          "base_uri": "https://localhost:8080/"
        },
        "id": "6u1Xp3d3jdxE",
        "outputId": "9f75d23d-a9f8-4759-da95-0daf6c0b0e2e"
      },
      "source": [
        "epochs = 10\n",
        "history = model.fit(\n",
        "  train_ds,\n",
        "  validation_data=val_ds,\n",
        "  epochs=epochs\n",
        ")"
      ],
      "execution_count": 66,
      "outputs": [
        {
          "output_type": "stream",
          "text": [
            "Epoch 1/10\n",
            "702/702 [==============================] - 15s 21ms/step - loss: 0.4755 - accuracy: 0.7184 - val_loss: 0.1583 - val_accuracy: 0.9623\n",
            "Epoch 2/10\n",
            "702/702 [==============================] - 14s 21ms/step - loss: 0.1649 - accuracy: 0.9485 - val_loss: 0.1249 - val_accuracy: 0.9623\n",
            "Epoch 3/10\n",
            "702/702 [==============================] - 14s 21ms/step - loss: 0.1545 - accuracy: 0.9491 - val_loss: 0.1248 - val_accuracy: 0.9647\n",
            "Epoch 4/10\n",
            "702/702 [==============================] - 14s 21ms/step - loss: 0.1426 - accuracy: 0.9543 - val_loss: 0.1194 - val_accuracy: 0.9607\n",
            "Epoch 5/10\n",
            "702/702 [==============================] - 15s 21ms/step - loss: 0.1371 - accuracy: 0.9553 - val_loss: 0.1211 - val_accuracy: 0.9631\n",
            "Epoch 6/10\n",
            "702/702 [==============================] - 14s 21ms/step - loss: 0.1336 - accuracy: 0.9545 - val_loss: 0.1150 - val_accuracy: 0.9603\n",
            "Epoch 7/10\n",
            "702/702 [==============================] - 14s 21ms/step - loss: 0.1323 - accuracy: 0.9556 - val_loss: 0.1303 - val_accuracy: 0.9607\n",
            "Epoch 8/10\n",
            "702/702 [==============================] - 14s 21ms/step - loss: 0.1253 - accuracy: 0.9576 - val_loss: 0.1151 - val_accuracy: 0.9655\n",
            "Epoch 9/10\n",
            "702/702 [==============================] - 14s 21ms/step - loss: 0.1255 - accuracy: 0.9588 - val_loss: 0.1090 - val_accuracy: 0.9659\n",
            "Epoch 10/10\n",
            "702/702 [==============================] - 14s 21ms/step - loss: 0.1213 - accuracy: 0.9591 - val_loss: 0.1007 - val_accuracy: 0.9667\n"
          ],
          "name": "stdout"
        }
      ]
    },
    {
      "cell_type": "code",
      "metadata": {
        "id": "IgFt1vbmjdxE"
      },
      "source": [
        "model = Sequential([\n",
        "  data_augmentation,#my additional data augmentation layer\n",
        "  layers.experimental.preprocessing.Rescaling(1./255),\n",
        "  layers.Conv2D(16, 3, padding='valid', activation='relu'),\n",
        "  layers.MaxPooling2D(),\n",
        "  layers.Conv2D(32, 3, padding='valid', activation='relu'),\n",
        "  layers.MaxPooling2D(),\n",
        "  layers.Conv2D(64, 3, padding='valid', activation='relu'),\n",
        "  layers.MaxPooling2D(),\n",
        "  layers.Conv2D(128, 3, padding='valid', activation='relu'),\n",
        "  layers.MaxPooling2D(),\n",
        "  layers.Dropout(.1),\n",
        "  layers.Flatten(),\n",
        "  layers.Dense(128, activation='relu'),\n",
        "  layers.Dense(num_classes)\n",
        "])"
      ],
      "execution_count": 67,
      "outputs": []
    },
    {
      "cell_type": "code",
      "metadata": {
        "id": "49IyF64SjdxE"
      },
      "source": [
        "model.compile(optimizer='Adamax',\n",
        "              loss=tf.keras.losses.SparseCategoricalCrossentropy(from_logits=True),\n",
        "              metrics=['accuracy'])"
      ],
      "execution_count": 68,
      "outputs": []
    },
    {
      "cell_type": "code",
      "metadata": {
        "colab": {
          "base_uri": "https://localhost:8080/"
        },
        "id": "AiRzPD0XjdxE",
        "outputId": "97f327d7-2463-47ef-c9a0-ba057381236b"
      },
      "source": [
        "epochs = 10\n",
        "history = model.fit(\n",
        "  train_ds,\n",
        "  validation_data=val_ds,\n",
        "  epochs=epochs\n",
        ")"
      ],
      "execution_count": 69,
      "outputs": [
        {
          "output_type": "stream",
          "text": [
            "Epoch 1/10\n",
            "702/702 [==============================] - 14s 20ms/step - loss: 0.4823 - accuracy: 0.7545 - val_loss: 0.1954 - val_accuracy: 0.9246\n",
            "Epoch 2/10\n",
            "702/702 [==============================] - 14s 19ms/step - loss: 0.2075 - accuracy: 0.9241 - val_loss: 0.1566 - val_accuracy: 0.9543\n",
            "Epoch 3/10\n",
            "702/702 [==============================] - 14s 19ms/step - loss: 0.1831 - accuracy: 0.9390 - val_loss: 0.1491 - val_accuracy: 0.9563\n",
            "Epoch 4/10\n",
            "702/702 [==============================] - 14s 19ms/step - loss: 0.1713 - accuracy: 0.9457 - val_loss: 0.1364 - val_accuracy: 0.9603\n",
            "Epoch 5/10\n",
            "702/702 [==============================] - 14s 20ms/step - loss: 0.1663 - accuracy: 0.9474 - val_loss: 0.1352 - val_accuracy: 0.9607\n",
            "Epoch 6/10\n",
            "702/702 [==============================] - 14s 19ms/step - loss: 0.1620 - accuracy: 0.9487 - val_loss: 0.1305 - val_accuracy: 0.9635\n",
            "Epoch 7/10\n",
            "702/702 [==============================] - 14s 19ms/step - loss: 0.1518 - accuracy: 0.9505 - val_loss: 0.1328 - val_accuracy: 0.9571\n",
            "Epoch 8/10\n",
            "702/702 [==============================] - 14s 19ms/step - loss: 0.1446 - accuracy: 0.9524 - val_loss: 0.1236 - val_accuracy: 0.9591\n",
            "Epoch 9/10\n",
            "702/702 [==============================] - 14s 19ms/step - loss: 0.1403 - accuracy: 0.9539 - val_loss: 0.1149 - val_accuracy: 0.9611\n",
            "Epoch 10/10\n",
            "702/702 [==============================] - 14s 19ms/step - loss: 0.1398 - accuracy: 0.9529 - val_loss: 0.1141 - val_accuracy: 0.9631\n"
          ],
          "name": "stdout"
        }
      ]
    },
    {
      "cell_type": "markdown",
      "metadata": {
        "id": "yzYD3FzQjdxE"
      },
      "source": [
        "Okay! So my best results seem to have come from the model with one additional layer (128 filters), valid padding, relu activation function, and the nadam activation function. Below is my final training model and the result of that model on test data!"
      ]
    },
    {
      "cell_type": "code",
      "metadata": {
        "id": "Yepw-bDSjdxF"
      },
      "source": [
        "model = Sequential([\n",
        "  data_augmentation,#my additional data augmentation layer\n",
        "  layers.experimental.preprocessing.Rescaling(1./255),\n",
        "  layers.Conv2D(16, 3, padding='valid', activation='relu'),\n",
        "  layers.MaxPooling2D(),\n",
        "  layers.Conv2D(32, 3, padding='valid', activation='relu'),\n",
        "  layers.MaxPooling2D(),\n",
        "  layers.Conv2D(64, 3, padding='valid', activation='relu'),\n",
        "  layers.MaxPooling2D(),\n",
        "  layers.Conv2D(128, 3, padding='valid', activation='relu'),\n",
        "  layers.MaxPooling2D(),\n",
        "  layers.Dropout(0.2),\n",
        "  layers.Flatten(),\n",
        "  layers.Dense(128, activation='relu'),\n",
        "  layers.Dense(num_classes)\n",
        "])"
      ],
      "execution_count": 70,
      "outputs": []
    },
    {
      "cell_type": "code",
      "metadata": {
        "colab": {
          "base_uri": "https://localhost:8080/"
        },
        "id": "PaXX-8mxjdxF",
        "outputId": "31c77aa8-3ebb-405f-8429-6012c08071a4"
      },
      "source": [
        "model.summary()"
      ],
      "execution_count": 71,
      "outputs": [
        {
          "output_type": "stream",
          "text": [
            "Model: \"sequential_18\"\n",
            "_________________________________________________________________\n",
            "Layer (type)                 Output Shape              Param #   \n",
            "=================================================================\n",
            "sequential_1 (Sequential)    (None, 200, 200, 3)       0         \n",
            "_________________________________________________________________\n",
            "rescaling_17 (Rescaling)     (None, 200, 200, 3)       0         \n",
            "_________________________________________________________________\n",
            "conv2d_63 (Conv2D)           (None, 198, 198, 16)      448       \n",
            "_________________________________________________________________\n",
            "max_pooling2d_63 (MaxPooling (None, 99, 99, 16)        0         \n",
            "_________________________________________________________________\n",
            "conv2d_64 (Conv2D)           (None, 97, 97, 32)        4640      \n",
            "_________________________________________________________________\n",
            "max_pooling2d_64 (MaxPooling (None, 48, 48, 32)        0         \n",
            "_________________________________________________________________\n",
            "conv2d_65 (Conv2D)           (None, 46, 46, 64)        18496     \n",
            "_________________________________________________________________\n",
            "max_pooling2d_65 (MaxPooling (None, 23, 23, 64)        0         \n",
            "_________________________________________________________________\n",
            "conv2d_66 (Conv2D)           (None, 21, 21, 128)       73856     \n",
            "_________________________________________________________________\n",
            "max_pooling2d_66 (MaxPooling (None, 10, 10, 128)       0         \n",
            "_________________________________________________________________\n",
            "dropout_16 (Dropout)         (None, 10, 10, 128)       0         \n",
            "_________________________________________________________________\n",
            "flatten_17 (Flatten)         (None, 12800)             0         \n",
            "_________________________________________________________________\n",
            "dense_34 (Dense)             (None, 128)               1638528   \n",
            "_________________________________________________________________\n",
            "dense_35 (Dense)             (None, 2)                 258       \n",
            "=================================================================\n",
            "Total params: 1,736,226\n",
            "Trainable params: 1,736,226\n",
            "Non-trainable params: 0\n",
            "_________________________________________________________________\n"
          ],
          "name": "stdout"
        }
      ]
    },
    {
      "cell_type": "code",
      "metadata": {
        "id": "nQJub7Y8jdxF"
      },
      "source": [
        "model.compile(optimizer='Nadam',\n",
        "              loss=tf.keras.losses.SparseCategoricalCrossentropy(from_logits=True),\n",
        "              metrics=['accuracy'])"
      ],
      "execution_count": 72,
      "outputs": []
    },
    {
      "cell_type": "code",
      "metadata": {
        "colab": {
          "base_uri": "https://localhost:8080/"
        },
        "id": "PUS4Gl_fjdxF",
        "outputId": "f6578019-1a34-4b3c-c963-9dd8b0cb677f"
      },
      "source": [
        "epochs = 10\n",
        "history = model.fit(\n",
        "  train_ds,\n",
        "  validation_data=val_ds,\n",
        "  epochs=epochs\n",
        ")"
      ],
      "execution_count": 73,
      "outputs": [
        {
          "output_type": "stream",
          "text": [
            "Epoch 1/10\n",
            "702/702 [==============================] - 14s 21ms/step - loss: 0.3056 - accuracy: 0.8677 - val_loss: 0.1554 - val_accuracy: 0.9559\n",
            "Epoch 2/10\n",
            "702/702 [==============================] - 14s 20ms/step - loss: 0.1661 - accuracy: 0.9473 - val_loss: 0.1350 - val_accuracy: 0.9611\n",
            "Epoch 3/10\n",
            "702/702 [==============================] - 14s 20ms/step - loss: 0.1487 - accuracy: 0.9516 - val_loss: 0.1337 - val_accuracy: 0.9651\n",
            "Epoch 4/10\n",
            "702/702 [==============================] - 14s 20ms/step - loss: 0.1419 - accuracy: 0.9528 - val_loss: 0.1173 - val_accuracy: 0.9651\n",
            "Epoch 5/10\n",
            "702/702 [==============================] - 14s 20ms/step - loss: 0.1389 - accuracy: 0.9549 - val_loss: 0.1195 - val_accuracy: 0.9631\n",
            "Epoch 6/10\n",
            "702/702 [==============================] - 14s 20ms/step - loss: 0.1360 - accuracy: 0.9542 - val_loss: 0.1246 - val_accuracy: 0.9647\n",
            "Epoch 7/10\n",
            "702/702 [==============================] - 14s 21ms/step - loss: 0.1307 - accuracy: 0.9566 - val_loss: 0.1258 - val_accuracy: 0.9627\n",
            "Epoch 8/10\n",
            "702/702 [==============================] - 14s 20ms/step - loss: 0.1277 - accuracy: 0.9567 - val_loss: 0.1082 - val_accuracy: 0.9647\n",
            "Epoch 9/10\n",
            "702/702 [==============================] - 14s 20ms/step - loss: 0.1258 - accuracy: 0.9581 - val_loss: 0.1099 - val_accuracy: 0.9635\n",
            "Epoch 10/10\n",
            "702/702 [==============================] - 14s 20ms/step - loss: 0.1252 - accuracy: 0.9578 - val_loss: 0.1166 - val_accuracy: 0.9623\n"
          ],
          "name": "stdout"
        }
      ]
    },
    {
      "cell_type": "code",
      "metadata": {
        "colab": {
          "base_uri": "https://localhost:8080/",
          "height": 499
        },
        "id": "H1KJx2HvjdxF",
        "outputId": "0330bd54-6789-4f23-8b70-51ed84b45714"
      },
      "source": [
        "acc = history.history['accuracy']\n",
        "val_acc = history.history['val_accuracy']\n",
        "\n",
        "loss = history.history['loss']\n",
        "val_loss = history.history['val_loss']\n",
        "\n",
        "epochs_range = range(epochs)\n",
        "\n",
        "plt.figure(figsize=(8, 8))\n",
        "plt.subplot(1, 2, 1)\n",
        "plt.plot(epochs_range, acc, label='Training Accuracy')\n",
        "plt.plot(epochs_range, val_acc, label='Validation Accuracy')\n",
        "plt.legend(loc='lower right')\n",
        "plt.title('Training and Validation Accuracy')\n",
        "\n",
        "plt.subplot(1, 2, 2)\n",
        "plt.plot(epochs_range, loss, label='Training Loss')\n",
        "plt.plot(epochs_range, val_loss, label='Validation Loss')\n",
        "plt.legend(loc='upper right')\n",
        "plt.title('Training and Validation Loss')\n",
        "plt.show()"
      ],
      "execution_count": 74,
      "outputs": [
        {
          "output_type": "display_data",
          "data": {
            "image/png": "[encoded data removed]",
            "text/plain": [
              "<Figure size 576x576 with 2 Axes>"
            ]
          },
          "metadata": {
            "tags": [],
            "needs_background": "light"
          }
        }
      ]
    },
    {
      "cell_type": "code",
      "metadata": {
        "id": "wVMjnhVhjdxF"
      },
      "source": [
        "#preparing my test data for the model\n",
        "\n",
        "test_data_dir = \"/content/Cell_Images/cell_images/train\""
      ],
      "execution_count": 78,
      "outputs": []
    },
    {
      "cell_type": "code",
      "metadata": {
        "id": "QKMh_QZtjdxF"
      },
      "source": [
        ""
      ],
      "execution_count": 78,
      "outputs": []
    },
    {
      "cell_type": "code",
      "metadata": {
        "id": "M1CxhOKrjdxF"
      },
      "source": [
        "batch_size = 32\n",
        "img_height = 200\n",
        "img_width = 200"
      ],
      "execution_count": 79,
      "outputs": []
    },
    {
      "cell_type": "code",
      "metadata": {
        "colab": {
          "base_uri": "https://localhost:8080/"
        },
        "id": "-NHomXgMjdxF",
        "outputId": "788c0379-2f29-4e1e-fff1-85596dd86d71"
      },
      "source": [
        "#https://www.tensorflow.org/api_docs/python/tf/keras/preprocessing/image_dataset_from_directory\n",
        "\n",
        "test_ds = tf.keras.preprocessing.image_dataset_from_directory(\n",
        "  test_data_dir,\n",
        "  seed=1212020,\n",
        "  image_size=(img_height, img_width),\n",
        "  batch_size=batch_size)"
      ],
      "execution_count": 80,
      "outputs": [
        {
          "output_type": "stream",
          "text": [
            "Found 24958 files belonging to 2 classes.\n"
          ],
          "name": "stdout"
        }
      ]
    },
    {
      "cell_type": "code",
      "metadata": {
        "colab": {
          "base_uri": "https://localhost:8080/"
        },
        "id": "ymFi7F4ijdxF",
        "outputId": "41192001-4287-4856-da78-0c283b58bc49"
      },
      "source": [
        "model.evaluate(test_ds)"
      ],
      "execution_count": 81,
      "outputs": [
        {
          "output_type": "stream",
          "text": [
            "780/780 [==============================] - 46s 59ms/step - loss: 0.1201 - accuracy: 0.9609\n"
          ],
          "name": "stdout"
        },
        {
          "output_type": "execute_result",
          "data": {
            "text/plain": [
              "[0.12013625353574753, 0.9608542323112488]"
            ]
          },
          "metadata": {
            "tags": []
          },
          "execution_count": 81
        }
      ]
    },
    {
      "cell_type": "code",
      "metadata": {
        "id": "TjHfHDsQjdxF"
      },
      "source": [
        ""
      ],
      "execution_count": null,
      "outputs": []
    },
    {
      "cell_type": "code",
      "metadata": {
        "id": "E7geEBEojdxF"
      },
      "source": [
        ""
      ],
      "execution_count": null,
      "outputs": []
    }
  ]
}